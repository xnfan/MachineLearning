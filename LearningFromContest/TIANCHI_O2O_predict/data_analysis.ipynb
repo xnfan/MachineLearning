{
 "cells": [
  {
   "cell_type": "code",
   "execution_count": 9,
   "metadata": {
    "collapsed": true
   },
   "outputs": [],
   "source": [
    "import pandas as pd\n",
    "import numpy\n",
    "import seaborn as sns\n",
    "import matplotlib.pyplot as plt\n",
    "import datetime as dt\n",
    "from scipy import stats\n",
    "from datetime import date\n",
    "import warnings\n",
    "warnings.filterwarnings(\"ignore\")\n",
    "\n",
    "%matplotlib inline"
   ]
  },
  {
   "cell_type": "code",
   "execution_count": 14,
   "outputs": [],
   "source": [
    "#重新读取数据，将null原样保持，方便处理\n",
    "off_train = pd.read_csv('data/ccf_offline_stage1_train.csv',keep_default_na=False)\n",
    "off_train.columns=['user_id','merchant_id','coupon_id','discount_rate','distance','date_received','date']\n",
    "off_test = pd.read_csv('data/ccf_offline_stage1_test_revised.csv',keep_default_na=False)\n",
    "off_test.columns = ['user_id','merchant_id','coupon_id','discount_rate','distance','date_received']\n",
    "on_train = pd.read_csv('data/ccf_online_stage1_train.csv',keep_default_na=False)\n",
    "on_train.columns = ['user_id','merchant_id','action','coupon_id','discount_rate','date_received','date']\n",
    "off_train[['user_id','merchant_id','coupon_id']]=off_train[['user_id','merchant_id','coupon_id']].astype(str)\n",
    "off_test[['user_id','merchant_id','coupon_id']]=off_test[['user_id','merchant_id','coupon_id']].astype(str)\n",
    "on_train[['user_id','merchant_id','coupon_id']]=on_train[['user_id','merchant_id','coupon_id']].astype(str)"
   ],
   "metadata": {
    "collapsed": false,
    "pycharm": {
     "name": "#%%\n"
    }
   }
  },
  {
   "cell_type": "code",
   "execution_count": 15,
   "outputs": [
    {
     "name": "stdout",
     "output_type": "stream",
     "text": [
      "offline 训练集用户ID数量\n",
      "539438\n",
      "online 训练集用户ID数量\n",
      "762858\n",
      "offline 测试集用户ID数量\n",
      "76309\n",
      "offline 训练集用户与测试集用户重复数量\n",
      "76307.0\n",
      "offline 训练集用户与测试集重复用户在总测试集用户中的占比\n",
      "0.9999737907717308\n",
      "online 训练集用户与测试集用户重复数量\n",
      "43155.0\n",
      "online 训练集用户与测试集重复用户在总测试集用户中的占比\n",
      "0.5655296229802513\n"
     ]
    }
   ],
   "source": [
    "#查看online offline 训练集的 user_id与测试集的重合度\n",
    "off_train_user=off_train[['user_id']].copy().drop_duplicates()\n",
    "off_test_user=off_test[['user_id']].copy().drop_duplicates()\n",
    "on_train_user=on_train[['user_id']].copy().drop_duplicates()\n",
    "print ('offline 训练集用户ID数量')\n",
    "print (off_train_user.user_id.count())\n",
    "print ('online 训练集用户ID数量')\n",
    "print (on_train_user.user_id.count())\n",
    "print ('offline 测试集用户ID数量')\n",
    "print (off_test_user.user_id.count())\n",
    "off_train_user['off_train_flag']=1\n",
    "off_merge=off_test_user.merge(off_train_user,on='user_id', how=\"left\").reset_index().fillna(0)\n",
    "print ('offline 训练集用户与测试集用户重复数量')\n",
    "print(off_merge['off_train_flag'].sum())\n",
    "print ('offline 训练集用户与测试集重复用户在总测试集用户中的占比')\n",
    "print(off_merge['off_train_flag'].sum()/off_merge['off_train_flag'].count())\n",
    "on_train_user['on_train_flag']=1\n",
    "on_merge=off_test_user.merge(on_train_user,on='user_id', how=\"left\").reset_index().fillna(0)\n",
    "print ('online 训练集用户与测试集用户重复数量')\n",
    "print(on_merge['on_train_flag'].sum())\n",
    "print ('online 训练集用户与测试集重复用户在总测试集用户中的占比')\n",
    "print(on_merge['on_train_flag'].sum()/on_merge['on_train_flag'].count())"
   ],
   "metadata": {
    "collapsed": false,
    "pycharm": {
     "name": "#%%\n"
    }
   }
  },
  {
   "cell_type": "code",
   "execution_count": 16,
   "outputs": [
    {
     "name": "stdout",
     "output_type": "stream",
     "text": [
      "offline 训练集商家ID数量\n",
      "8415\n",
      "online 训练集商家ID数量\n",
      "7999\n",
      "offline 测试集商家ID数量\n",
      "1559\n",
      "offline 训练集商家与测试集商家重复数量\n",
      "1558.0\n",
      "offline 训练集商家与测试集重复商家在总测试集商家中的占比\n",
      "0.9993585631815266\n",
      "online 训练集商家与测试集商家重复数量\n",
      "0.0\n",
      "online 训练集商家与测试集重复商家在总测试集商家中的占比\n",
      "0.0\n"
     ]
    }
   ],
   "source": [
    "#查看online offline 训练集的 merchant_id 与测试集的重合度\n",
    "off_train_merchant=off_train[['merchant_id']].copy().drop_duplicates()\n",
    "off_test_merchant=off_test[['merchant_id']].copy().drop_duplicates()\n",
    "on_train_merchant=on_train[['merchant_id']].copy().drop_duplicates()\n",
    "print ('offline 训练集商家ID数量')\n",
    "print (off_train_merchant.merchant_id.count())\n",
    "print ('online 训练集商家ID数量')\n",
    "print (on_train_merchant.merchant_id.count())\n",
    "print ('offline 测试集商家ID数量')\n",
    "print (off_test_merchant.merchant_id.count())\n",
    "\n",
    "off_train_merchant['off_train_flag']=1\n",
    "off_merge=off_test_merchant.merge(off_train_merchant,on='merchant_id', how=\"left\").reset_index().fillna(0)\n",
    "print ('offline 训练集商家与测试集商家重复数量')\n",
    "print(off_merge['off_train_flag'].sum())\n",
    "print ('offline 训练集商家与测试集重复商家在总测试集商家中的占比')\n",
    "print(off_merge['off_train_flag'].sum()/off_merge['off_train_flag'].count())\n",
    "\n",
    "on_train_merchant['on_train_flag']=1\n",
    "on_merge=off_test_merchant.merge(on_train_merchant,on='merchant_id', how=\"left\").reset_index().fillna(0)\n",
    "print ('online 训练集商家与测试集商家重复数量')\n",
    "print(on_merge['on_train_flag'].sum())\n",
    "print ('online 训练集商家与测试集重复商家在总测试集商家中的占比')\n",
    "print(on_merge['on_train_flag'].sum()/on_merge['on_train_flag'].count())"
   ],
   "metadata": {
    "collapsed": false,
    "pycharm": {
     "name": "#%%\n"
    }
   }
  },
  {
   "cell_type": "code",
   "execution_count": 17,
   "outputs": [],
   "source": [
    "#分隔符\n",
    "separator=':'\n",
    "#计算折扣率，将满减和折扣统一\n",
    "#因为discount_rate为null的时候一般都是没有使用优惠券，这个时候折扣应该是1\n",
    "def get_discount_rate(s):\n",
    "    s = str(s)\n",
    "    if s=='null':\n",
    "        return -1\n",
    "        #return 1\n",
    "    s = s.split(separator)\n",
    "    if len(s) == 1:\n",
    "        return float(s[0])\n",
    "    else:\n",
    "        return 1.0-float(s[1])/float(s[0])\n",
    "\n",
    "#获取是否满减（full reduction promotion）\n",
    "def get_if_fd(s):\n",
    "    s = str(s)\n",
    "    s = s.split(separator)\n",
    "    if len(s)==1:\n",
    "        return 0\n",
    "    else:\n",
    "        return 1\n",
    "\n",
    "#获取满减的条件\n",
    "def get_full_value(s):\n",
    "    s = str(s)\n",
    "    s = s.split(separator)\n",
    "    if len(s)==1:\n",
    "        return -1\n",
    "    else:\n",
    "        return int(s[0])\n",
    "\n",
    "#获取满减的优惠\n",
    "def get_reduction_value(s):\n",
    "    s = str(s)\n",
    "    s = s.split(separator)\n",
    "    if len(s) == 1:\n",
    "        return -1\n",
    "    else:\n",
    "        return int(s[1])\n",
    "\n",
    "\n",
    "#获取月份\n",
    "def get_month(s):\n",
    "    if s[0]=='null':\n",
    "        return -1\n",
    "    else:\n",
    "        return int(s[4:6])\n",
    "\n",
    "#获取日期\n",
    "def get_day(s):\n",
    "    if s[0]=='null':\n",
    "        return -1\n",
    "    else:\n",
    "        return int(s[6:8])\n",
    "\n",
    "#获取日期间隔输入内容为Date:Date_received\n",
    "def get_day_gap(s):\n",
    "    s = s.split(separator)\n",
    "    if s[0]=='null':\n",
    "        return -1\n",
    "    if s[1]=='null':\n",
    "        return -1\n",
    "    else:\n",
    "        return (date(int(s[0][0:4]),int(s[0][4:6]),int(s[0][6:8])) - date(int(s[1][0:4]),int(s[1][4:6]),int(s[1][6:8]))).days\n",
    "\n",
    "#获取Label，输入内容为Date:Date_received\n",
    "def get_label(s):\n",
    "    s = s.split(separator)\n",
    "    if s[0]=='null':\n",
    "        return 0\n",
    "    if s[1]=='null':\n",
    "        return -1\n",
    "    elif (date(int(s[0][0:4]),int(s[0][4:6]),int(s[0][6:8]))-date(int(s[1][0:4]),int(s[1][4:6]),int(s[1][6:8]))).days<=15:\n",
    "        return 1\n",
    "    else:\n",
    "        return -1"
   ],
   "metadata": {
    "collapsed": false,
    "pycharm": {
     "name": "#%%\n"
    }
   }
  },
  {
   "cell_type": "code",
   "execution_count": 18,
   "outputs": [],
   "source": [
    "def add_feature(df):\n",
    "    df['if_fd']=df['discount_rate'].apply(get_if_fd)\n",
    "    df['full_value']=df['discount_rate'].apply(get_full_value)\n",
    "    df['reduction_value']=df['discount_rate'].apply(get_reduction_value)\n",
    "    df['discount_rate']=df['discount_rate'].apply(get_discount_rate)\n",
    "    df['distance']=df['distance'].replace('null',-1).astype(int)\n",
    "    #df['month_received'] = df['date_received'].apply(get_month)\n",
    "    #df['month'] = df['date'].apply(get_month)\n",
    "    return df\n",
    "\n",
    "def add_label(df):\n",
    "    df['day_gap']=df['date'].astype('str') + ':' +  df['date_received'].astype('str')\n",
    "    df['label']=df['day_gap'].apply(get_label)\n",
    "    df['day_gap']=df['day_gap'].apply(get_day_gap)\n",
    "    return df"
   ],
   "metadata": {
    "collapsed": false,
    "pycharm": {
     "name": "#%%\n"
    }
   }
  },
  {
   "cell_type": "code",
   "execution_count": 19,
   "outputs": [],
   "source": [
    "dftrain = off_train.copy()\n",
    "dftest = off_test.copy()\n",
    "dftrain=add_feature(dftrain)\n",
    "dftrain=add_label(dftrain)\n",
    "dftest=add_feature(dftest)"
   ],
   "metadata": {
    "collapsed": false,
    "pycharm": {
     "name": "#%%\n"
    }
   }
  },
  {
   "cell_type": "code",
   "execution_count": 20,
   "outputs": [
    {
     "data": {
      "text/plain": "   user_id merchant_id coupon_id  discount_rate  distance date_received  \\\n0  1439408        2632      null      -1.000000         0          null   \n1  1439408        4663     11002       0.866667         1      20160528   \n2  1439408        2632      8591       0.950000         0      20160217   \n3  1439408        2632      1078       0.950000         0      20160319   \n4  1439408        2632      8591       0.950000         0      20160613   \n\n       date  if_fd  full_value  reduction_value  day_gap  label  \n0  20160217      0          -1               -1       -1     -1  \n1      null      1         150               20       -1      0  \n2      null      1          20                1       -1      0  \n3      null      1          20                1       -1      0  \n4      null      1          20                1       -1      0  ",
      "text/html": "<div>\n<style scoped>\n    .dataframe tbody tr th:only-of-type {\n        vertical-align: middle;\n    }\n\n    .dataframe tbody tr th {\n        vertical-align: top;\n    }\n\n    .dataframe thead th {\n        text-align: right;\n    }\n</style>\n<table border=\"1\" class=\"dataframe\">\n  <thead>\n    <tr style=\"text-align: right;\">\n      <th></th>\n      <th>user_id</th>\n      <th>merchant_id</th>\n      <th>coupon_id</th>\n      <th>discount_rate</th>\n      <th>distance</th>\n      <th>date_received</th>\n      <th>date</th>\n      <th>if_fd</th>\n      <th>full_value</th>\n      <th>reduction_value</th>\n      <th>day_gap</th>\n      <th>label</th>\n    </tr>\n  </thead>\n  <tbody>\n    <tr>\n      <th>0</th>\n      <td>1439408</td>\n      <td>2632</td>\n      <td>null</td>\n      <td>-1.000000</td>\n      <td>0</td>\n      <td>null</td>\n      <td>20160217</td>\n      <td>0</td>\n      <td>-1</td>\n      <td>-1</td>\n      <td>-1</td>\n      <td>-1</td>\n    </tr>\n    <tr>\n      <th>1</th>\n      <td>1439408</td>\n      <td>4663</td>\n      <td>11002</td>\n      <td>0.866667</td>\n      <td>1</td>\n      <td>20160528</td>\n      <td>null</td>\n      <td>1</td>\n      <td>150</td>\n      <td>20</td>\n      <td>-1</td>\n      <td>0</td>\n    </tr>\n    <tr>\n      <th>2</th>\n      <td>1439408</td>\n      <td>2632</td>\n      <td>8591</td>\n      <td>0.950000</td>\n      <td>0</td>\n      <td>20160217</td>\n      <td>null</td>\n      <td>1</td>\n      <td>20</td>\n      <td>1</td>\n      <td>-1</td>\n      <td>0</td>\n    </tr>\n    <tr>\n      <th>3</th>\n      <td>1439408</td>\n      <td>2632</td>\n      <td>1078</td>\n      <td>0.950000</td>\n      <td>0</td>\n      <td>20160319</td>\n      <td>null</td>\n      <td>1</td>\n      <td>20</td>\n      <td>1</td>\n      <td>-1</td>\n      <td>0</td>\n    </tr>\n    <tr>\n      <th>4</th>\n      <td>1439408</td>\n      <td>2632</td>\n      <td>8591</td>\n      <td>0.950000</td>\n      <td>0</td>\n      <td>20160613</td>\n      <td>null</td>\n      <td>1</td>\n      <td>20</td>\n      <td>1</td>\n      <td>-1</td>\n      <td>0</td>\n    </tr>\n  </tbody>\n</table>\n</div>"
     },
     "execution_count": 20,
     "metadata": {},
     "output_type": "execute_result"
    }
   ],
   "source": [
    "dftrain.head()\n"
   ],
   "metadata": {
    "collapsed": false,
    "pycharm": {
     "name": "#%%\n"
    }
   }
  }
 ],
 "metadata": {
  "kernelspec": {
   "display_name": "Python 3",
   "language": "python",
   "name": "python3"
  },
  "language_info": {
   "codemirror_mode": {
    "name": "ipython",
    "version": 2
   },
   "file_extension": ".py",
   "mimetype": "text/x-python",
   "name": "python",
   "nbconvert_exporter": "python",
   "pygments_lexer": "ipython2",
   "version": "2.7.6"
  }
 },
 "nbformat": 4,
 "nbformat_minor": 0
}