{
 "cells": [
  {
   "cell_type": "code",
   "execution_count": 1,
   "outputs": [],
   "source": [
    "from sklearn.linear_model import LinearRegression\n",
    "from sklearn.neighbors import KNeighborsRegressor\n",
    "from sklearn.tree import DecisionTreeRegressor\n",
    "from sklearn.ensemble import RandomForestRegressor\n",
    "from sklearn.svm import SVR\n",
    "\n",
    "from sklearn.model_selection import train_test_split\n",
    "from sklearn.metrics import mean_squared_error\n",
    "\n",
    "from sklearn.model_selection import learning_curve\n",
    "from sklearn.model_selection import ShuffleSplit\n",
    "\n",
    "import pandas as pd"
   ],
   "metadata": {
    "collapsed": false,
    "pycharm": {
     "name": "#%%\n"
    }
   }
  },
  {
   "cell_type": "code",
   "execution_count": 5,
   "outputs": [
    {
     "data": {
      "text/plain": "                  0             1             2             3             4  \\\ncount  2.886000e+03  2.886000e+03  2.886000e+03  2.886000e+03  2.886000e+03   \nmean  -3.939253e-17 -1.969626e-17  2.954440e-17 -5.908879e-17  7.386099e-17   \nstd    3.998976e-01  3.500240e-01  2.938631e-01  2.728023e-01  2.077128e-01   \nmin   -1.071795e+00 -9.429479e-01 -9.948314e-01 -7.103086e-01 -7.703985e-01   \n25%   -2.804085e-01 -2.613727e-01 -2.090798e-01 -1.945196e-01 -1.315623e-01   \n50%   -1.417104e-02 -1.277241e-02  2.112166e-02 -2.337395e-02 -5.122861e-03   \n75%    2.287306e-01  2.317720e-01  2.069571e-01  1.657590e-01  1.281656e-01   \nmax    1.597730e+00  1.382802e+00  1.010250e+00  1.448007e+00  1.034062e+00   \n\n                  5             6             7             8             9  \\\ncount  2.886000e+03  2.886000e+03  2.886000e+03  2.886000e+03  2.886000e+03   \nmean  -2.708236e-17  5.908879e-17  5.047168e-17 -4.924066e-17  8.740217e-17   \nstd    1.951842e-01  1.877104e-01  1.607670e-01  1.512707e-01  1.443772e-01   \nmin   -5.340284e-01 -5.993764e-01 -5.870792e-01 -6.283013e-01 -4.902477e-01   \n25%   -1.264092e-01 -1.236355e-01 -1.016389e-01 -9.663332e-02 -9.297162e-02   \n50%   -1.355346e-02 -1.746628e-04 -4.656764e-03  2.574516e-03 -1.475378e-03   \n75%    9.993110e-02  1.272074e-01  9.657091e-02  1.002793e-01  9.059699e-02   \nmax    1.358963e+00  6.191600e-01  7.370014e-01  6.447869e-01  5.839577e-01   \n\n                 10            11            12            13            14  \\\ncount  2.886000e+03  2.886000e+03  2.886000e+03  2.886000e+03  2.886000e+03   \nmean   9.848132e-18  1.280257e-16 -1.538771e-17 -5.293371e-17 -9.848132e-18   \nstd    1.368790e-01  1.286191e-01  1.193301e-01  1.149757e-01  1.133507e-01   \nmin   -6.340768e-01 -5.905543e-01 -4.175720e-01 -4.309496e-01 -4.170885e-01   \n25%   -8.202524e-02 -7.722117e-02 -7.140315e-02 -7.490259e-02 -7.712204e-02   \n50%    7.289760e-03 -5.671208e-03 -4.157889e-03  1.042171e-03 -1.738348e-03   \n75%    8.833988e-02  7.148089e-02  6.778119e-02  7.575507e-02  7.118075e-02   \nmax    6.405349e-01  6.779764e-01  5.157227e-01  4.978796e-01  4.673081e-01   \n\n                 15       target  \ncount  2.886000e+03  2884.000000  \nmean   1.335653e-16     0.127274  \nstd    1.019258e-01     0.983462  \nmin   -3.602942e-01    -3.044000  \n25%   -6.605996e-02    -0.348500  \n50%   -7.629364e-04     0.313000  \n75%    6.354093e-02     0.794250  \nmax    4.570815e-01     2.538000  ",
      "text/html": "<div>\n<style scoped>\n    .dataframe tbody tr th:only-of-type {\n        vertical-align: middle;\n    }\n\n    .dataframe tbody tr th {\n        vertical-align: top;\n    }\n\n    .dataframe thead th {\n        text-align: right;\n    }\n</style>\n<table border=\"1\" class=\"dataframe\">\n  <thead>\n    <tr style=\"text-align: right;\">\n      <th></th>\n      <th>0</th>\n      <th>1</th>\n      <th>2</th>\n      <th>3</th>\n      <th>4</th>\n      <th>5</th>\n      <th>6</th>\n      <th>7</th>\n      <th>8</th>\n      <th>9</th>\n      <th>10</th>\n      <th>11</th>\n      <th>12</th>\n      <th>13</th>\n      <th>14</th>\n      <th>15</th>\n      <th>target</th>\n    </tr>\n  </thead>\n  <tbody>\n    <tr>\n      <th>count</th>\n      <td>2.886000e+03</td>\n      <td>2.886000e+03</td>\n      <td>2.886000e+03</td>\n      <td>2.886000e+03</td>\n      <td>2.886000e+03</td>\n      <td>2.886000e+03</td>\n      <td>2.886000e+03</td>\n      <td>2.886000e+03</td>\n      <td>2.886000e+03</td>\n      <td>2.886000e+03</td>\n      <td>2.886000e+03</td>\n      <td>2.886000e+03</td>\n      <td>2.886000e+03</td>\n      <td>2.886000e+03</td>\n      <td>2.886000e+03</td>\n      <td>2.886000e+03</td>\n      <td>2884.000000</td>\n    </tr>\n    <tr>\n      <th>mean</th>\n      <td>-3.939253e-17</td>\n      <td>-1.969626e-17</td>\n      <td>2.954440e-17</td>\n      <td>-5.908879e-17</td>\n      <td>7.386099e-17</td>\n      <td>-2.708236e-17</td>\n      <td>5.908879e-17</td>\n      <td>5.047168e-17</td>\n      <td>-4.924066e-17</td>\n      <td>8.740217e-17</td>\n      <td>9.848132e-18</td>\n      <td>1.280257e-16</td>\n      <td>-1.538771e-17</td>\n      <td>-5.293371e-17</td>\n      <td>-9.848132e-18</td>\n      <td>1.335653e-16</td>\n      <td>0.127274</td>\n    </tr>\n    <tr>\n      <th>std</th>\n      <td>3.998976e-01</td>\n      <td>3.500240e-01</td>\n      <td>2.938631e-01</td>\n      <td>2.728023e-01</td>\n      <td>2.077128e-01</td>\n      <td>1.951842e-01</td>\n      <td>1.877104e-01</td>\n      <td>1.607670e-01</td>\n      <td>1.512707e-01</td>\n      <td>1.443772e-01</td>\n      <td>1.368790e-01</td>\n      <td>1.286191e-01</td>\n      <td>1.193301e-01</td>\n      <td>1.149757e-01</td>\n      <td>1.133507e-01</td>\n      <td>1.019258e-01</td>\n      <td>0.983462</td>\n    </tr>\n    <tr>\n      <th>min</th>\n      <td>-1.071795e+00</td>\n      <td>-9.429479e-01</td>\n      <td>-9.948314e-01</td>\n      <td>-7.103086e-01</td>\n      <td>-7.703985e-01</td>\n      <td>-5.340284e-01</td>\n      <td>-5.993764e-01</td>\n      <td>-5.870792e-01</td>\n      <td>-6.283013e-01</td>\n      <td>-4.902477e-01</td>\n      <td>-6.340768e-01</td>\n      <td>-5.905543e-01</td>\n      <td>-4.175720e-01</td>\n      <td>-4.309496e-01</td>\n      <td>-4.170885e-01</td>\n      <td>-3.602942e-01</td>\n      <td>-3.044000</td>\n    </tr>\n    <tr>\n      <th>25%</th>\n      <td>-2.804085e-01</td>\n      <td>-2.613727e-01</td>\n      <td>-2.090798e-01</td>\n      <td>-1.945196e-01</td>\n      <td>-1.315623e-01</td>\n      <td>-1.264092e-01</td>\n      <td>-1.236355e-01</td>\n      <td>-1.016389e-01</td>\n      <td>-9.663332e-02</td>\n      <td>-9.297162e-02</td>\n      <td>-8.202524e-02</td>\n      <td>-7.722117e-02</td>\n      <td>-7.140315e-02</td>\n      <td>-7.490259e-02</td>\n      <td>-7.712204e-02</td>\n      <td>-6.605996e-02</td>\n      <td>-0.348500</td>\n    </tr>\n    <tr>\n      <th>50%</th>\n      <td>-1.417104e-02</td>\n      <td>-1.277241e-02</td>\n      <td>2.112166e-02</td>\n      <td>-2.337395e-02</td>\n      <td>-5.122861e-03</td>\n      <td>-1.355346e-02</td>\n      <td>-1.746628e-04</td>\n      <td>-4.656764e-03</td>\n      <td>2.574516e-03</td>\n      <td>-1.475378e-03</td>\n      <td>7.289760e-03</td>\n      <td>-5.671208e-03</td>\n      <td>-4.157889e-03</td>\n      <td>1.042171e-03</td>\n      <td>-1.738348e-03</td>\n      <td>-7.629364e-04</td>\n      <td>0.313000</td>\n    </tr>\n    <tr>\n      <th>75%</th>\n      <td>2.287306e-01</td>\n      <td>2.317720e-01</td>\n      <td>2.069571e-01</td>\n      <td>1.657590e-01</td>\n      <td>1.281656e-01</td>\n      <td>9.993110e-02</td>\n      <td>1.272074e-01</td>\n      <td>9.657091e-02</td>\n      <td>1.002793e-01</td>\n      <td>9.059699e-02</td>\n      <td>8.833988e-02</td>\n      <td>7.148089e-02</td>\n      <td>6.778119e-02</td>\n      <td>7.575507e-02</td>\n      <td>7.118075e-02</td>\n      <td>6.354093e-02</td>\n      <td>0.794250</td>\n    </tr>\n    <tr>\n      <th>max</th>\n      <td>1.597730e+00</td>\n      <td>1.382802e+00</td>\n      <td>1.010250e+00</td>\n      <td>1.448007e+00</td>\n      <td>1.034062e+00</td>\n      <td>1.358963e+00</td>\n      <td>6.191600e-01</td>\n      <td>7.370014e-01</td>\n      <td>6.447869e-01</td>\n      <td>5.839577e-01</td>\n      <td>6.405349e-01</td>\n      <td>6.779764e-01</td>\n      <td>5.157227e-01</td>\n      <td>4.978796e-01</td>\n      <td>4.673081e-01</td>\n      <td>4.570815e-01</td>\n      <td>2.538000</td>\n    </tr>\n  </tbody>\n</table>\n</div>"
     },
     "execution_count": 5,
     "metadata": {},
     "output_type": "execute_result"
    }
   ],
   "source": [
    "train_data_file = 'data/zhengqi_train.txt'\n",
    "test_data_file = 'data/zhengqi_test.txt'\n",
    "\n",
    "train_data = pd.read_csv(train_data_file, sep='\\t', encoding='utf-8')\n",
    "test_data = pd.read_csv(test_data_file, sep='\\t', encoding='utf-8')\n",
    "\n",
    "train_data = train_data[train_data['V9']>-7.5]\n",
    "test_data = test_data[test_data['V9']>-7.5]\n",
    "\n",
    "from sklearn.decomposition import PCA\n",
    "from sklearn import preprocessing\n",
    "\n",
    "feature_columns = [col for col in train_data.columns if col not in ['target']]\n",
    "min_max_scaler = preprocessing.MinMaxScaler()\n",
    "min_max_scaler = min_max_scaler.fit(train_data[feature_columns])\n",
    "\n",
    "train_data_scaler = min_max_scaler.transform(train_data[feature_columns])\n",
    "test_data_scaler = min_max_scaler.transform(test_data[feature_columns])\n",
    "\n",
    "train_data_scaler = pd.DataFrame(train_data_scaler)\n",
    "train_data_scaler.columns = feature_columns\n",
    "train_data_scaler['target'] = train_data['target']\n",
    "\n",
    "test_data_scaler = pd.DataFrame(test_data_scaler)\n",
    "test_data_scaler.columns = feature_columns\n",
    "\n",
    "pca = PCA(n_components=16)\n",
    "new_train_pca_16 = pca.fit_transform(train_data_scaler.iloc[:, 0:-1])\n",
    "new_test_pca_16 = pca.transform(test_data_scaler)\n",
    "new_train_pca_16 = pd.DataFrame(new_train_pca_16)\n",
    "new_test_pca_16 = pd.DataFrame(new_test_pca_16)\n",
    "\n",
    "new_train_pca_16['target'] = train_data_scaler['target']\n",
    "new_train_pca_16.describe()"
   ],
   "metadata": {
    "collapsed": false,
    "pycharm": {
     "name": "#%%\n"
    }
   }
  },
  {
   "cell_type": "markdown",
   "source": [
    "Split Data"
   ],
   "metadata": {
    "collapsed": false
   }
  },
  {
   "cell_type": "code",
   "execution_count": 6,
   "outputs": [],
   "source": [
    "new_train_pca_16 = new_train_pca_16.fillna(0)\n",
    "train = new_train_pca_16[new_test_pca_16.columns]\n",
    "target = new_train_pca_16['target']\n",
    "\n",
    "train_data, test_data, train_target, test_target = train_test_split(train, target, test_size=0.2, random_state=0)"
   ],
   "metadata": {
    "collapsed": false,
    "pycharm": {
     "name": "#%%\n"
    }
   }
  },
  {
   "cell_type": "markdown",
   "source": [
    "Linear Regression"
   ],
   "metadata": {
    "collapsed": false
   }
  },
  {
   "cell_type": "code",
   "execution_count": 7,
   "outputs": [
    {
     "name": "stdout",
     "output_type": "stream",
     "text": [
      "LinearRegression:  0.27170117426273427\n"
     ]
    }
   ],
   "source": [
    "clf = LinearRegression()\n",
    "clf.fit(train_data, train_target)\n",
    "score = mean_squared_error(test_target, clf.predict(test_data))\n",
    "print(\"LinearRegression: \", score)"
   ],
   "metadata": {
    "collapsed": false,
    "pycharm": {
     "name": "#%%\n"
    }
   }
  },
  {
   "cell_type": "markdown",
   "source": [
    "K-Neighbors Regression"
   ],
   "metadata": {
    "collapsed": false,
    "pycharm": {
     "name": "#%% md\n"
    }
   }
  },
  {
   "cell_type": "code",
   "execution_count": 8,
   "outputs": [
    {
     "name": "stdout",
     "output_type": "stream",
     "text": [
      "KNeighborsRegression:  0.2730478217182093\n"
     ]
    }
   ],
   "source": [
    "clf = KNeighborsRegressor(n_neighbors=8)\n",
    "clf.fit(train_data, train_target)\n",
    "score = mean_squared_error(test_target, clf.predict(test_data))\n",
    "print(\"KNeighborsRegression: \", score)"
   ],
   "metadata": {
    "collapsed": false,
    "pycharm": {
     "name": "#%%\n"
    }
   }
  },
  {
   "cell_type": "markdown",
   "source": [
    "Random Forest Regression"
   ],
   "metadata": {
    "collapsed": false,
    "pycharm": {
     "name": "#%% md\n"
    }
   }
  },
  {
   "cell_type": "code",
   "execution_count": 9,
   "outputs": [
    {
     "name": "stdout",
     "output_type": "stream",
     "text": [
      "RandomForestRegressor:  0.2550231710032872\n"
     ]
    }
   ],
   "source": [
    "clf = RandomForestRegressor()\n",
    "clf.fit(train_data, train_target)\n",
    "score = mean_squared_error(test_target, clf.predict(test_data))\n",
    "print(\"RandomForestRegressor: \", score)"
   ],
   "metadata": {
    "collapsed": false,
    "pycharm": {
     "name": "#%%\n"
    }
   }
  },
  {
   "cell_type": "markdown",
   "source": [
    "LGB Regression"
   ],
   "metadata": {
    "collapsed": false
   }
  },
  {
   "cell_type": "code",
   "execution_count": 10,
   "outputs": [
    {
     "name": "stdout",
     "output_type": "stream",
     "text": [
      "LightGBM:  0.24493711836175286\n"
     ]
    }
   ],
   "source": [
    "import lightgbm as lgb\n",
    "clf = lgb.LGBMRegressor(learning_rate=0.01, max_depth=-1,\n",
    "                        n_estimators=5000, boosting_type='gbdt',\n",
    "                        random_state=2021, objective='regression')\n",
    "\n",
    "clf.fit(X=train_data, y=train_target, eval_metric='MSE', verbose=50)\n",
    "\n",
    "score = mean_squared_error(test_target, clf.predict(test_data))\n",
    "print(\"LightGBM: \", score)"
   ],
   "metadata": {
    "collapsed": false,
    "pycharm": {
     "name": "#%%\n"
    }
   }
  }
 ],
 "metadata": {
  "kernelspec": {
   "display_name": "Python 3",
   "language": "python",
   "name": "python3"
  },
  "language_info": {
   "codemirror_mode": {
    "name": "ipython",
    "version": 2
   },
   "file_extension": ".py",
   "mimetype": "text/x-python",
   "name": "python",
   "nbconvert_exporter": "python",
   "pygments_lexer": "ipython2",
   "version": "2.7.6"
  }
 },
 "nbformat": 4,
 "nbformat_minor": 0
}