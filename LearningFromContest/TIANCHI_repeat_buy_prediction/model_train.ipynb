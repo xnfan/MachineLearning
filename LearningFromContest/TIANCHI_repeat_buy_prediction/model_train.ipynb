{
 "cells": [
  {
   "cell_type": "code",
   "execution_count": 1,
   "metadata": {
    "collapsed": true
   },
   "outputs": [],
   "source": [
    "import pandas as pd\n",
    "import numpy as np\n",
    "\n",
    "train_data = pd.read_csv(\"data/train_all.csv\", nrows=10000)\n",
    "test_data = pd.read_csv(\"data/test_all.csv\", nrows=100)"
   ]
  },
  {
   "cell_type": "code",
   "execution_count": 2,
   "outputs": [],
   "source": [
    "features_columns = [col for col in train_data.columns if col not in ['user_id', \"label\"]]\n",
    "train = train_data[features_columns].values\n",
    "test = test_data[features_columns].values\n",
    "target = train_data['label'].values"
   ],
   "metadata": {
    "collapsed": false,
    "pycharm": {
     "name": "#%%\n"
    }
   }
  },
  {
   "cell_type": "code",
   "execution_count": 4,
   "outputs": [
    {
     "name": "stdout",
     "output_type": "stream",
     "text": [
      "(1200, 229) (1200,)\n",
      "(800, 229) (800,)\n"
     ]
    },
    {
     "data": {
      "text/plain": "0.9275"
     },
     "execution_count": 4,
     "metadata": {},
     "output_type": "execute_result"
    }
   ],
   "source": [
    "from sklearn.model_selection import train_test_split\n",
    "from sklearn.ensemble import RandomForestClassifier\n",
    "\n",
    "clf = RandomForestClassifier(n_estimators=100,\n",
    "                             max_depth=2,\n",
    "                             random_state=0,\n",
    "                             n_jobs=-1)\n",
    "X_train, X_test, y_train, y_test = train_test_split(\n",
    "    train, target, test_size=0.4, random_state=0\n",
    ")\n",
    "\n",
    "print(X_train.shape, y_train.shape)\n",
    "print(X_test.shape, y_test.shape)\n",
    "\n",
    "clf = clf.fit(X_train, y_train)\n",
    "clf.score(X_test, y_test)"
   ],
   "metadata": {
    "collapsed": false,
    "pycharm": {
     "name": "#%%\n"
    }
   }
  },
  {
   "cell_type": "code",
   "execution_count": 6,
   "outputs": [
    {
     "name": "stdout",
     "output_type": "stream",
     "text": [
      "[0.9375 0.935  0.935  0.935  0.935 ]\n",
      "Accuracy: 0.94 (+/- 0.00)\n"
     ]
    }
   ],
   "source": [
    "from sklearn.model_selection import cross_val_score\n",
    "from sklearn.ensemble import RandomForestClassifier\n",
    "\n",
    "clf = RandomForestClassifier(n_estimators=100,\n",
    "                             max_depth=2,\n",
    "                             random_state=0,\n",
    "                             n_jobs=-1)\n",
    "scores = cross_val_score(clf, train, target, cv=5)\n",
    "print(scores)\n",
    "print(\"Accuracy: %0.2f (+/- %0.2f)\" % (scores.mean(), scores.std() * 2))"
   ],
   "metadata": {
    "collapsed": false,
    "pycharm": {
     "name": "#%%\n"
    }
   }
  },
  {
   "cell_type": "code",
   "execution_count": 7,
   "outputs": [
    {
     "name": "stdout",
     "output_type": "stream",
     "text": [
      "[0.48387097 0.48320413 0.48320413 0.48320413 0.48320413]\n",
      "Accuracy: 0.48 (+/- 0.00)\n"
     ]
    }
   ],
   "source": [
    "from sklearn.model_selection import cross_val_score\n",
    "from sklearn.ensemble import RandomForestClassifier\n",
    "\n",
    "clf = RandomForestClassifier(n_estimators=100,\n",
    "                             max_depth=2,\n",
    "                             random_state=0,\n",
    "                             n_jobs=-1)\n",
    "scores = cross_val_score(clf, train, target, cv=5, scoring=\"f1_macro\")\n",
    "print(scores)\n",
    "print(\"Accuracy: %0.2f (+/- %0.2f)\" % (scores.mean(), scores.std() * 2))"
   ],
   "metadata": {
    "collapsed": false,
    "pycharm": {
     "name": "#%%\n"
    }
   }
  },
  {
   "cell_type": "code",
   "execution_count": 8,
   "outputs": [
    {
     "name": "stdout",
     "output_type": "stream",
     "text": [
      "[0.92833333 0.94       0.94166667 0.93       0.93166667]\n",
      "Accuracy: 0.93 (+/- 0.01)\n"
     ]
    }
   ],
   "source": [
    "from sklearn.model_selection import cross_val_score\n",
    "from sklearn.model_selection import ShuffleSplit\n",
    "from sklearn.ensemble import RandomForestClassifier\n",
    "\n",
    "clf = RandomForestClassifier(n_estimators=100,\n",
    "                             max_depth=2,\n",
    "                             random_state=0,\n",
    "                             n_jobs=-1)\n",
    "cv = ShuffleSplit(n_splits=5, test_size=0.3, random_state=0)\n",
    "scores = cross_val_score(clf, train, target, cv=cv)\n",
    "print(scores)\n",
    "print(\"Accuracy: %0.2f (+/- %0.2f)\" % (scores.mean(), scores.std() * 2))"
   ],
   "metadata": {
    "collapsed": false,
    "pycharm": {
     "name": "#%%\n"
    }
   }
  },
  {
   "cell_type": "code",
   "execution_count": 10,
   "outputs": [
    {
     "name": "stdout",
     "output_type": "stream",
     "text": [
      "0 0.9375\n",
      "1 0.925\n",
      "2 0.935\n",
      "3 0.9325\n",
      "4 0.9475\n"
     ]
    }
   ],
   "source": [
    "import numpy as np\n",
    "from sklearn.model_selection import KFold\n",
    "from sklearn.ensemble import RandomForestClassifier\n",
    "\n",
    "clf = RandomForestClassifier(n_estimators=100,\n",
    "                             max_depth=2,\n",
    "                             random_state=0,\n",
    "                             n_jobs=-1)\n",
    "kf = KFold(n_splits=5)\n",
    "for k, (train_index, test_index) in enumerate(kf.split(train)):\n",
    "    X_train, X_test, y_train, y_test = train[train_index], train[test_index], target[train_index], target[test_index]\n",
    "    clf.fit(X_train, y_train)\n",
    "    print(k, clf.score(X_test, y_test))"
   ],
   "metadata": {
    "collapsed": false,
    "pycharm": {
     "name": "#%%\n"
    }
   }
  },
  {
   "cell_type": "code",
   "execution_count": 12,
   "outputs": [
    {
     "name": "stdout",
     "output_type": "stream",
     "text": [
      "0 0.9375\n",
      "1 0.935\n",
      "2 0.935\n",
      "3 0.935\n",
      "4 0.935\n"
     ]
    }
   ],
   "source": [
    "from sklearn.model_selection import StratifiedKFold\n",
    "from sklearn.ensemble import RandomForestClassifier\n",
    "\n",
    "clf = RandomForestClassifier(n_estimators=100,\n",
    "                             max_depth=2,\n",
    "                             random_state=0,\n",
    "                             n_jobs=-1)\n",
    "skf = StratifiedKFold(n_splits=5)\n",
    "for k, (train_index, test_index) in enumerate(skf.split(train, target)):\n",
    "    X_train, X_test, y_train, y_test = train[train_index], train[test_index], target[train_index], target[test_index]\n",
    "    clf.fit(X_train, y_train)\n",
    "    print(k, clf.score(X_test, y_test))"
   ],
   "metadata": {
    "collapsed": false,
    "pycharm": {
     "name": "#%%\n"
    }
   }
  },
  {
   "cell_type": "code",
   "execution_count": 13,
   "outputs": [
    {
     "name": "stdout",
     "output_type": "stream",
     "text": [
      "# Tuning hyper-parameters for precision\n",
      "\n"
     ]
    },
    {
     "name": "stderr",
     "output_type": "stream",
     "text": [
      "C:\\InstallSoft\\Anaconda\\envs\\MachineLearning\\lib\\site-packages\\sklearn\\metrics\\_classification.py:1245: UndefinedMetricWarning: Precision is ill-defined and being set to 0.0 in labels with no predicted samples. Use `zero_division` parameter to control this behavior.\n",
      "  _warn_prf(average, modifier, msg_start, len(result))\n",
      "C:\\InstallSoft\\Anaconda\\envs\\MachineLearning\\lib\\site-packages\\sklearn\\metrics\\_classification.py:1245: UndefinedMetricWarning: Precision is ill-defined and being set to 0.0 in labels with no predicted samples. Use `zero_division` parameter to control this behavior.\n",
      "  _warn_prf(average, modifier, msg_start, len(result))\n",
      "C:\\InstallSoft\\Anaconda\\envs\\MachineLearning\\lib\\site-packages\\sklearn\\metrics\\_classification.py:1245: UndefinedMetricWarning: Precision is ill-defined and being set to 0.0 in labels with no predicted samples. Use `zero_division` parameter to control this behavior.\n",
      "  _warn_prf(average, modifier, msg_start, len(result))\n",
      "C:\\InstallSoft\\Anaconda\\envs\\MachineLearning\\lib\\site-packages\\sklearn\\metrics\\_classification.py:1245: UndefinedMetricWarning: Precision is ill-defined and being set to 0.0 in labels with no predicted samples. Use `zero_division` parameter to control this behavior.\n",
      "  _warn_prf(average, modifier, msg_start, len(result))\n",
      "C:\\InstallSoft\\Anaconda\\envs\\MachineLearning\\lib\\site-packages\\sklearn\\metrics\\_classification.py:1245: UndefinedMetricWarning: Precision is ill-defined and being set to 0.0 in labels with no predicted samples. Use `zero_division` parameter to control this behavior.\n",
      "  _warn_prf(average, modifier, msg_start, len(result))\n",
      "C:\\InstallSoft\\Anaconda\\envs\\MachineLearning\\lib\\site-packages\\sklearn\\metrics\\_classification.py:1245: UndefinedMetricWarning: Precision is ill-defined and being set to 0.0 in labels with no predicted samples. Use `zero_division` parameter to control this behavior.\n",
      "  _warn_prf(average, modifier, msg_start, len(result))\n",
      "C:\\InstallSoft\\Anaconda\\envs\\MachineLearning\\lib\\site-packages\\sklearn\\metrics\\_classification.py:1245: UndefinedMetricWarning: Precision is ill-defined and being set to 0.0 in labels with no predicted samples. Use `zero_division` parameter to control this behavior.\n",
      "  _warn_prf(average, modifier, msg_start, len(result))\n",
      "C:\\InstallSoft\\Anaconda\\envs\\MachineLearning\\lib\\site-packages\\sklearn\\metrics\\_classification.py:1245: UndefinedMetricWarning: Precision is ill-defined and being set to 0.0 in labels with no predicted samples. Use `zero_division` parameter to control this behavior.\n",
      "  _warn_prf(average, modifier, msg_start, len(result))\n",
      "C:\\InstallSoft\\Anaconda\\envs\\MachineLearning\\lib\\site-packages\\sklearn\\metrics\\_classification.py:1245: UndefinedMetricWarning: Precision is ill-defined and being set to 0.0 in labels with no predicted samples. Use `zero_division` parameter to control this behavior.\n",
      "  _warn_prf(average, modifier, msg_start, len(result))\n"
     ]
    },
    {
     "name": "stdout",
     "output_type": "stream",
     "text": [
      "Best parameters set found on development set:\n",
      "\n",
      "{'n_estimators': 50}\n",
      "\n",
      "Grid scores on development set:\n",
      "\n",
      "0.471 (+/-0.002) for {'n_estimators': 50}\n",
      "\n",
      "Detailed classification report:\n",
      "\n",
      "the model is trained on the full development set.\n",
      "the scores are computed on the full evaluation set.\n",
      "\n",
      "              precision    recall  f1-score   support\n",
      "\n",
      "         0.0       0.93      0.99      0.96       928\n",
      "         1.0       0.00      0.00      0.00        72\n",
      "\n",
      "    accuracy                           0.92      1000\n",
      "   macro avg       0.46      0.49      0.48      1000\n",
      "weighted avg       0.86      0.92      0.89      1000\n",
      "\n",
      "\n",
      "0.471 (+/-0.002) for {'n_estimators': 100}\n",
      "\n",
      "Detailed classification report:\n",
      "\n",
      "the model is trained on the full development set.\n",
      "the scores are computed on the full evaluation set.\n",
      "\n",
      "              precision    recall  f1-score   support\n",
      "\n",
      "         0.0       0.93      0.99      0.96       928\n",
      "         1.0       0.00      0.00      0.00        72\n",
      "\n",
      "    accuracy                           0.92      1000\n",
      "   macro avg       0.46      0.49      0.48      1000\n",
      "weighted avg       0.86      0.92      0.89      1000\n",
      "\n",
      "\n",
      "0.471 (+/-0.002) for {'n_estimators': 200}\n",
      "\n",
      "Detailed classification report:\n",
      "\n",
      "the model is trained on the full development set.\n",
      "the scores are computed on the full evaluation set.\n",
      "\n",
      "              precision    recall  f1-score   support\n",
      "\n",
      "         0.0       0.93      0.99      0.96       928\n",
      "         1.0       0.00      0.00      0.00        72\n",
      "\n",
      "    accuracy                           0.92      1000\n",
      "   macro avg       0.46      0.49      0.48      1000\n",
      "weighted avg       0.86      0.92      0.89      1000\n",
      "\n",
      "\n"
     ]
    }
   ],
   "source": [
    "# 模型调参\n",
    "from sklearn.model_selection import train_test_split\n",
    "from sklearn.model_selection import GridSearchCV\n",
    "from sklearn.metrics import classification_report\n",
    "from sklearn.ensemble import RandomForestClassifier\n",
    "\n",
    "X_train, X_test, y_train, y_test = train_test_split(train, target, test_size=0.5, random_state=0)\n",
    "clf = RandomForestClassifier(n_jobs=-1)\n",
    "\n",
    "tuned_parameters = {\"n_estimators\": [50, 100, 200]}\n",
    "\n",
    "scores = ['precision']\n",
    "for score in scores:\n",
    "    print(\"# Tuning hyper-parameters for %s\" % score)\n",
    "    print()\n",
    "\n",
    "    clf = GridSearchCV(clf, tuned_parameters, cv=5, scoring='%s_macro' % score)\n",
    "    clf.fit(X_train, y_train)\n",
    "\n",
    "    print(\"Best parameters set found on development set:\")\n",
    "    print()\n",
    "    print(clf.best_params_)\n",
    "    print()\n",
    "    print(\"Grid scores on development set:\")\n",
    "    print()\n",
    "    means = clf.cv_results_['mean_test_score']\n",
    "    stds = clf.cv_results_['std_test_score']\n",
    "    for mean, std, params in zip(means, stds, clf.cv_results_['params']):\n",
    "        print(\"%0.3f (+/-%0.3f) for %r\" % (mean, std*2, params))\n",
    "        print()\n",
    "\n",
    "        print(\"Detailed classification report:\")\n",
    "        print()\n",
    "        print(\"the model is trained on the full development set.\")\n",
    "        print(\"the scores are computed on the full evaluation set.\")\n",
    "        print()\n",
    "        y_true, y_pred = y_test, clf.predict(X_test)\n",
    "        print(classification_report(y_true, y_pred))\n",
    "        print()"
   ],
   "metadata": {
    "collapsed": false,
    "pycharm": {
     "name": "#%%\n"
    }
   }
  },
  {
   "cell_type": "code",
   "execution_count": 18,
   "outputs": [
    {
     "name": "stdout",
     "output_type": "stream",
     "text": [
      "Confusion matrix, without normalization\n",
      "[[464   3]\n",
      " [ 33   0]]\n",
      "Normalized confusion matrix\n",
      "[[0.99 0.01]\n",
      " [1.   0.  ]]\n"
     ]
    },
    {
     "data": {
      "text/plain": "<Figure size 432x288 with 2 Axes>",
      "image/png": "[encoded data removed]"
     },
     "metadata": {
      "needs_background": "light"
     },
     "output_type": "display_data"
    },
    {
     "data": {
      "text/plain": "<Figure size 432x288 with 2 Axes>",
      "image/png": "[encoded data removed]"
     },
     "metadata": {
      "needs_background": "light"
     },
     "output_type": "display_data"
    }
   ],
   "source": [
    "# 混淆矩阵可视化\n",
    "import itertools\n",
    "import numpy as np\n",
    "import matplotlib.pyplot as plt\n",
    "\n",
    "from sklearn.model_selection import train_test_split\n",
    "from sklearn.metrics import confusion_matrix\n",
    "from sklearn.ensemble import RandomForestClassifier\n",
    "\n",
    "class_names = ['no_repeat', 'repeat']\n",
    "\n",
    "X_train, X_test, y_train, y_test = train_test_split(train,\n",
    "                                                    target,\n",
    "                                                    random_state=0)\n",
    "\n",
    "clf = RandomForestClassifier(n_jobs=-1)\n",
    "y_pred = clf.fit(X_train, y_train).predict(X_test)\n",
    "\n",
    "def plot_confusion_matrix(cm, classes, normalize=False,\n",
    "                          title='Confusion matrix',\n",
    "                          cmap=plt.cm.Blues):\n",
    "    if normalize:\n",
    "        cm = cm.astype('float') / cm.sum(axis=1)[:, np.newaxis]\n",
    "        print(\"Normalized confusion matrix\")\n",
    "    else:\n",
    "        print('Confusion matrix, without normalization')\n",
    "\n",
    "    print(cm)\n",
    "\n",
    "    plt.imshow(cm, interpolation='nearest', cmap=cmap)\n",
    "    plt.title(title)\n",
    "    plt.colorbar()\n",
    "    tick_marks = np.arange(len(classes))\n",
    "    plt.xticks(tick_marks, classes, rotation=45)\n",
    "    plt.yticks(tick_marks, classes)\n",
    "\n",
    "    fmt = \".2f\" if normalize else 'd'\n",
    "    thresh = cm.max() / 2.\n",
    "    for i, j in itertools.product(range(cm.shape[0]), range(cm.shape[1])):\n",
    "        plt.text(j, i,\n",
    "                 format(cm[i, j], fmt),\n",
    "                 horizontalalignment='center',\n",
    "                 color='white' if cm[i, j] > thresh else \"black\")\n",
    "    plt.ylabel(\"True label\")\n",
    "    plt.xlabel(\"Predicted label\")\n",
    "    plt.tight_layout()\n",
    "\n",
    "cnf_matrix = confusion_matrix(y_test, y_pred)\n",
    "np.set_printoptions(precision=2)\n",
    "\n",
    "plt.figure()\n",
    "plot_confusion_matrix(cnf_matrix, classes=class_names, title='Confusion matrix, without normalization')\n",
    "\n",
    "plt.figure()\n",
    "plot_confusion_matrix(cnf_matrix,\n",
    "                      classes=class_names,\n",
    "                      normalize=True,\n",
    "                      title='Normalized confusion matrix')\n",
    "\n",
    "plt.show()"
   ],
   "metadata": {
    "collapsed": false,
    "pycharm": {
     "name": "#%%\n"
    }
   }
  },
  {
   "cell_type": "code",
   "execution_count": 19,
   "outputs": [
    {
     "name": "stderr",
     "output_type": "stream",
     "text": [
      "C:\\InstallSoft\\Anaconda\\envs\\MachineLearning\\lib\\site-packages\\sklearn\\linear_model\\_logistic.py:765: ConvergenceWarning: lbfgs failed to converge (status=1):\n",
      "STOP: TOTAL NO. of ITERATIONS REACHED LIMIT.\n",
      "\n",
      "Increase the number of iterations (max_iter) or scale the data as shown in:\n",
      "    https://scikit-learn.org/stable/modules/preprocessing.html\n",
      "Please also refer to the documentation for alternative solver options:\n",
      "    https://scikit-learn.org/stable/modules/linear_model.html#logistic-regression\n",
      "  extra_warning_msg=_LOGISTIC_SOLVER_CONVERGENCE_MSG)\n"
     ]
    },
    {
     "data": {
      "text/plain": "0.926"
     },
     "execution_count": 19,
     "metadata": {},
     "output_type": "execute_result"
    }
   ],
   "source": [
    "# 不同的分类模型\n",
    "# 逻辑回归\n",
    "from sklearn.linear_model import LogisticRegression\n",
    "from sklearn.preprocessing import StandardScaler\n",
    "\n",
    "stdScaler = StandardScaler()\n",
    "X = stdScaler.fit_transform(train)\n",
    "\n",
    "X_train, X_test, y_train, y_test = train_test_split(X, target, random_state=0)\n",
    "\n",
    "clf = LogisticRegression(random_state=0, solver='lbfgs', multi_class='multinomial').fit(X_train, y_train)\n",
    "clf.score(X_test, y_test)"
   ],
   "metadata": {
    "collapsed": false,
    "pycharm": {
     "name": "#%%\n"
    }
   }
  },
  {
   "cell_type": "code",
   "execution_count": 20,
   "outputs": [
    {
     "data": {
      "text/plain": "0.93"
     },
     "execution_count": 20,
     "metadata": {},
     "output_type": "execute_result"
    }
   ],
   "source": [
    "# 不同的分类模型\n",
    "# KNN\n",
    "from sklearn.neighbors import KNeighborsClassifier\n",
    "from sklearn.preprocessing import StandardScaler\n",
    "\n",
    "stdScaler = StandardScaler()\n",
    "X = stdScaler.fit_transform(train)\n",
    "\n",
    "X_train, X_test, y_train, y_test = train_test_split(X, target, random_state=0)\n",
    "\n",
    "clf = KNeighborsClassifier(n_neighbors=3).fit(X_train, y_train)\n",
    "clf.score(X_test, y_test)"
   ],
   "metadata": {
    "collapsed": false,
    "pycharm": {
     "name": "#%%\n"
    }
   }
  },
  {
   "cell_type": "code",
   "execution_count": 21,
   "outputs": [
    {
     "data": {
      "text/plain": "0.424"
     },
     "execution_count": 21,
     "metadata": {},
     "output_type": "execute_result"
    }
   ],
   "source": [
    "\n",
    "# 不同的分类模型\n",
    "# 高斯贝叶斯\n",
    "from sklearn.naive_bayes import GaussianNB\n",
    "from sklearn.preprocessing import StandardScaler\n",
    "\n",
    "stdScaler = StandardScaler()\n",
    "X = stdScaler.fit_transform(train)\n",
    "\n",
    "X_train, X_test, y_train, y_test = train_test_split(X, target, random_state=0)\n",
    "\n",
    "clf = GaussianNB().fit(X_train, y_train)\n",
    "clf.score(X_test, y_test)"
   ],
   "metadata": {
    "collapsed": false,
    "pycharm": {
     "name": "#%%\n"
    }
   }
  },
  {
   "cell_type": "code",
   "execution_count": 22,
   "outputs": [
    {
     "data": {
      "text/plain": "0.872"
     },
     "execution_count": 22,
     "metadata": {},
     "output_type": "execute_result"
    }
   ],
   "source": [
    "# 不同的分类模型\n",
    "# 决策树\n",
    "from sklearn import tree\n",
    "from sklearn.preprocessing import StandardScaler\n",
    "\n",
    "X_train, X_test, y_train, y_test = train_test_split(X, target, random_state=0)\n",
    "\n",
    "clf = tree.DecisionTreeClassifier()\n",
    "clf.fit(X_train, y_train)\n",
    "clf.score(X_test, y_test)"
   ],
   "metadata": {
    "collapsed": false,
    "pycharm": {
     "name": "#%%\n"
    }
   }
  },
  {
   "cell_type": "code",
   "execution_count": 23,
   "outputs": [
    {
     "data": {
      "text/plain": "0.934"
     },
     "execution_count": 23,
     "metadata": {},
     "output_type": "execute_result"
    }
   ],
   "source": [
    "# 不同的分类模型\n",
    "# Bagging based on KNN\n",
    "from sklearn.ensemble import BaggingClassifier\n",
    "from sklearn.neighbors import KNeighborsClassifier\n",
    "\n",
    "X_train, X_test, y_train, y_test = train_test_split(X, target, random_state=0)\n",
    "\n",
    "clf = BaggingClassifier(KNeighborsClassifier(), max_samples=0.5, max_features=0.5)\n",
    "clf.fit(X_train, y_train)\n",
    "clf.score(X_test, y_test)"
   ],
   "metadata": {
    "collapsed": false,
    "pycharm": {
     "name": "#%%\n"
    }
   }
  },
  {
   "cell_type": "code",
   "execution_count": 24,
   "outputs": [
    {
     "data": {
      "text/plain": "0.924"
     },
     "execution_count": 24,
     "metadata": {},
     "output_type": "execute_result"
    }
   ],
   "source": [
    "# 不同的分类模型\n",
    "# 随机森林\n",
    "from sklearn.ensemble import RandomForestClassifier\n",
    "\n",
    "X_train, X_test, y_train, y_test = train_test_split(X, target, random_state=0)\n",
    "\n",
    "clf = RandomForestClassifier(n_estimators=10, max_depth=None, min_samples_split=2, random_state=0)\n",
    "clf.fit(X_train, y_train)\n",
    "clf.score(X_test, y_test)"
   ],
   "metadata": {
    "collapsed": false,
    "pycharm": {
     "name": "#%%\n"
    }
   }
  },
  {
   "cell_type": "code",
   "execution_count": 25,
   "outputs": [
    {
     "data": {
      "text/plain": "0.92"
     },
     "execution_count": 25,
     "metadata": {},
     "output_type": "execute_result"
    }
   ],
   "source": [
    "# 不同的分类模型\n",
    "# 极端森林\n",
    "from sklearn.ensemble import ExtraTreesClassifier\n",
    "\n",
    "X_train, X_test, y_train, y_test = train_test_split(X, target, random_state=0)\n",
    "\n",
    "clf = ExtraTreesClassifier(n_estimators=10, max_depth=None, min_samples_split=2, random_state=0)\n",
    "clf.fit(X_train, y_train)\n",
    "clf.score(X_test, y_test)"
   ],
   "metadata": {
    "collapsed": false,
    "pycharm": {
     "name": "#%%\n"
    }
   }
  },
  {
   "cell_type": "code",
   "execution_count": 26,
   "outputs": [
    {
     "data": {
      "text/plain": "0.934"
     },
     "execution_count": 26,
     "metadata": {},
     "output_type": "execute_result"
    }
   ],
   "source": [
    "# 不同的分类模型\n",
    "# Adaboost\n",
    "from sklearn.ensemble import AdaBoostClassifier\n",
    "\n",
    "X_train, X_test, y_train, y_test = train_test_split(X, target, random_state=0)\n",
    "\n",
    "clf = AdaBoostClassifier(n_estimators=10)\n",
    "clf.fit(X_train, y_train)\n",
    "clf.score(X_test, y_test)"
   ],
   "metadata": {
    "collapsed": false,
    "pycharm": {
     "name": "#%%\n"
    }
   }
  },
  {
   "cell_type": "code",
   "execution_count": 27,
   "outputs": [
    {
     "data": {
      "text/plain": "0.926"
     },
     "execution_count": 27,
     "metadata": {},
     "output_type": "execute_result"
    }
   ],
   "source": [
    "# 不同的分类模型\n",
    "# GBDT\n",
    "from sklearn.ensemble import GradientBoostingClassifier\n",
    "\n",
    "X_train, X_test, y_train, y_test = train_test_split(X, target, random_state=0)\n",
    "\n",
    "clf = GradientBoostingClassifier(n_estimators=10, max_depth=1, learning_rate=1, random_state=0)\n",
    "clf.fit(X_train, y_train)\n",
    "clf.score(X_test, y_test)"
   ],
   "metadata": {
    "collapsed": false,
    "pycharm": {
     "name": "#%%\n"
    }
   }
  },
  {
   "cell_type": "code",
   "execution_count": 28,
   "outputs": [
    {
     "name": "stderr",
     "output_type": "stream",
     "text": [
      "C:\\InstallSoft\\Anaconda\\envs\\MachineLearning\\lib\\site-packages\\sklearn\\linear_model\\_logistic.py:765: ConvergenceWarning: lbfgs failed to converge (status=1):\n",
      "STOP: TOTAL NO. of ITERATIONS REACHED LIMIT.\n",
      "\n",
      "Increase the number of iterations (max_iter) or scale the data as shown in:\n",
      "    https://scikit-learn.org/stable/modules/preprocessing.html\n",
      "Please also refer to the documentation for alternative solver options:\n",
      "    https://scikit-learn.org/stable/modules/linear_model.html#logistic-regression\n",
      "  extra_warning_msg=_LOGISTIC_SOLVER_CONVERGENCE_MSG)\n",
      "C:\\InstallSoft\\Anaconda\\envs\\MachineLearning\\lib\\site-packages\\sklearn\\linear_model\\_logistic.py:765: ConvergenceWarning: lbfgs failed to converge (status=1):\n",
      "STOP: TOTAL NO. of ITERATIONS REACHED LIMIT.\n",
      "\n",
      "Increase the number of iterations (max_iter) or scale the data as shown in:\n",
      "    https://scikit-learn.org/stable/modules/preprocessing.html\n",
      "Please also refer to the documentation for alternative solver options:\n",
      "    https://scikit-learn.org/stable/modules/linear_model.html#logistic-regression\n",
      "  extra_warning_msg=_LOGISTIC_SOLVER_CONVERGENCE_MSG)\n",
      "C:\\InstallSoft\\Anaconda\\envs\\MachineLearning\\lib\\site-packages\\sklearn\\linear_model\\_logistic.py:765: ConvergenceWarning: lbfgs failed to converge (status=1):\n",
      "STOP: TOTAL NO. of ITERATIONS REACHED LIMIT.\n",
      "\n",
      "Increase the number of iterations (max_iter) or scale the data as shown in:\n",
      "    https://scikit-learn.org/stable/modules/preprocessing.html\n",
      "Please also refer to the documentation for alternative solver options:\n",
      "    https://scikit-learn.org/stable/modules/linear_model.html#logistic-regression\n",
      "  extra_warning_msg=_LOGISTIC_SOLVER_CONVERGENCE_MSG)\n",
      "C:\\InstallSoft\\Anaconda\\envs\\MachineLearning\\lib\\site-packages\\sklearn\\linear_model\\_logistic.py:765: ConvergenceWarning: lbfgs failed to converge (status=1):\n",
      "STOP: TOTAL NO. of ITERATIONS REACHED LIMIT.\n",
      "\n",
      "Increase the number of iterations (max_iter) or scale the data as shown in:\n",
      "    https://scikit-learn.org/stable/modules/preprocessing.html\n",
      "Please also refer to the documentation for alternative solver options:\n",
      "    https://scikit-learn.org/stable/modules/linear_model.html#logistic-regression\n",
      "  extra_warning_msg=_LOGISTIC_SOLVER_CONVERGENCE_MSG)\n",
      "C:\\InstallSoft\\Anaconda\\envs\\MachineLearning\\lib\\site-packages\\sklearn\\linear_model\\_logistic.py:765: ConvergenceWarning: lbfgs failed to converge (status=1):\n",
      "STOP: TOTAL NO. of ITERATIONS REACHED LIMIT.\n",
      "\n",
      "Increase the number of iterations (max_iter) or scale the data as shown in:\n",
      "    https://scikit-learn.org/stable/modules/preprocessing.html\n",
      "Please also refer to the documentation for alternative solver options:\n",
      "    https://scikit-learn.org/stable/modules/linear_model.html#logistic-regression\n",
      "  extra_warning_msg=_LOGISTIC_SOLVER_CONVERGENCE_MSG)\n"
     ]
    },
    {
     "name": "stdout",
     "output_type": "stream",
     "text": [
      "Accuracy: 0.93 (+/- 0.01) [LogisticRegression]\n",
      "Accuracy: 0.93 (+/- 0.00) [Random Forest]\n",
      "Accuracy: 0.46 (+/- 0.01) [naive Bayes]\n"
     ]
    },
    {
     "name": "stderr",
     "output_type": "stream",
     "text": [
      "C:\\InstallSoft\\Anaconda\\envs\\MachineLearning\\lib\\site-packages\\sklearn\\linear_model\\_logistic.py:765: ConvergenceWarning: lbfgs failed to converge (status=1):\n",
      "STOP: TOTAL NO. of ITERATIONS REACHED LIMIT.\n",
      "\n",
      "Increase the number of iterations (max_iter) or scale the data as shown in:\n",
      "    https://scikit-learn.org/stable/modules/preprocessing.html\n",
      "Please also refer to the documentation for alternative solver options:\n",
      "    https://scikit-learn.org/stable/modules/linear_model.html#logistic-regression\n",
      "  extra_warning_msg=_LOGISTIC_SOLVER_CONVERGENCE_MSG)\n",
      "C:\\InstallSoft\\Anaconda\\envs\\MachineLearning\\lib\\site-packages\\sklearn\\linear_model\\_logistic.py:765: ConvergenceWarning: lbfgs failed to converge (status=1):\n",
      "STOP: TOTAL NO. of ITERATIONS REACHED LIMIT.\n",
      "\n",
      "Increase the number of iterations (max_iter) or scale the data as shown in:\n",
      "    https://scikit-learn.org/stable/modules/preprocessing.html\n",
      "Please also refer to the documentation for alternative solver options:\n",
      "    https://scikit-learn.org/stable/modules/linear_model.html#logistic-regression\n",
      "  extra_warning_msg=_LOGISTIC_SOLVER_CONVERGENCE_MSG)\n",
      "C:\\InstallSoft\\Anaconda\\envs\\MachineLearning\\lib\\site-packages\\sklearn\\linear_model\\_logistic.py:765: ConvergenceWarning: lbfgs failed to converge (status=1):\n",
      "STOP: TOTAL NO. of ITERATIONS REACHED LIMIT.\n",
      "\n",
      "Increase the number of iterations (max_iter) or scale the data as shown in:\n",
      "    https://scikit-learn.org/stable/modules/preprocessing.html\n",
      "Please also refer to the documentation for alternative solver options:\n",
      "    https://scikit-learn.org/stable/modules/linear_model.html#logistic-regression\n",
      "  extra_warning_msg=_LOGISTIC_SOLVER_CONVERGENCE_MSG)\n",
      "C:\\InstallSoft\\Anaconda\\envs\\MachineLearning\\lib\\site-packages\\sklearn\\linear_model\\_logistic.py:765: ConvergenceWarning: lbfgs failed to converge (status=1):\n",
      "STOP: TOTAL NO. of ITERATIONS REACHED LIMIT.\n",
      "\n",
      "Increase the number of iterations (max_iter) or scale the data as shown in:\n",
      "    https://scikit-learn.org/stable/modules/preprocessing.html\n",
      "Please also refer to the documentation for alternative solver options:\n",
      "    https://scikit-learn.org/stable/modules/linear_model.html#logistic-regression\n",
      "  extra_warning_msg=_LOGISTIC_SOLVER_CONVERGENCE_MSG)\n"
     ]
    },
    {
     "name": "stdout",
     "output_type": "stream",
     "text": [
      "Accuracy: 0.93 (+/- 0.01) [Ensemble]\n"
     ]
    },
    {
     "name": "stderr",
     "output_type": "stream",
     "text": [
      "C:\\InstallSoft\\Anaconda\\envs\\MachineLearning\\lib\\site-packages\\sklearn\\linear_model\\_logistic.py:765: ConvergenceWarning: lbfgs failed to converge (status=1):\n",
      "STOP: TOTAL NO. of ITERATIONS REACHED LIMIT.\n",
      "\n",
      "Increase the number of iterations (max_iter) or scale the data as shown in:\n",
      "    https://scikit-learn.org/stable/modules/preprocessing.html\n",
      "Please also refer to the documentation for alternative solver options:\n",
      "    https://scikit-learn.org/stable/modules/linear_model.html#logistic-regression\n",
      "  extra_warning_msg=_LOGISTIC_SOLVER_CONVERGENCE_MSG)\n"
     ]
    }
   ],
   "source": [
    "# 集成学习\n",
    "from sklearn import datasets\n",
    "from sklearn.model_selection import cross_val_score\n",
    "from sklearn.linear_model import LogisticRegression\n",
    "from sklearn.naive_bayes import GaussianNB\n",
    "from sklearn.ensemble import RandomForestClassifier\n",
    "from sklearn.ensemble import VotingClassifier\n",
    "from sklearn.preprocessing import StandardScaler\n",
    "\n",
    "stdScaler = StandardScaler()\n",
    "X = stdScaler.fit_transform(train)\n",
    "y = target\n",
    "\n",
    "clf1 = LogisticRegression(solver='lbfgs', multi_class='multinomial', random_state=1)\n",
    "clf2 = RandomForestClassifier(n_estimators=50, random_state=1)\n",
    "clf3 = GaussianNB()\n",
    "\n",
    "eclf = VotingClassifier(estimators=[('lr', clf1), (\"rf\", clf2), ('gnb', clf3)], voting='hard')\n",
    "\n",
    "for clf, label in zip([clf1, clf2, clf3, eclf], [\"LogisticRegression\", \"Random Forest\", \"naive Bayes\", \"Ensemble\"]):\n",
    "    scores = cross_val_score(clf, X, y, cv=5, scoring='accuracy')\n",
    "    print(\"Accuracy: %0.2f (+/- %0.2f) [%s]\" % (scores.mean(), scores.std(), label))"
   ],
   "metadata": {
    "collapsed": false,
    "pycharm": {
     "name": "#%%\n"
    }
   }
  },
  {
   "cell_type": "code",
   "execution_count": 33,
   "outputs": [
    {
     "name": "stdout",
     "output_type": "stream",
     "text": [
      "[LightGBM] [Warning] Unknown parameter: colsample_bylevel\n",
      "[LightGBM] [Warning] Unknown parameter: tree_method\n",
      "[LightGBM] [Warning] Unknown parameter: silent\n",
      "[LightGBM] [Warning] Unknown parameter: colsample_bylevel\n",
      "[LightGBM] [Warning] Unknown parameter: tree_method\n",
      "[LightGBM] [Warning] Unknown parameter: silent\n",
      "[LightGBM] [Warning] Auto-choosing col-wise multi-threading, the overhead of testing was 0.001004 seconds.\n",
      "You can set `force_col_wise=true` to remove the overhead.\n",
      "[LightGBM] [Info] Total Bins 6016\n",
      "[LightGBM] [Info] Number of data points in the train set: 1200, number of used features: 122\n",
      "[LightGBM] [Warning] Unknown parameter: colsample_bylevel\n",
      "[LightGBM] [Warning] Unknown parameter: tree_method\n",
      "[LightGBM] [Warning] Unknown parameter: silent\n",
      "[LightGBM] [Info] Start training from score -0.060989\n",
      "[LightGBM] [Info] Start training from score -2.827397\n",
      "[LightGBM] [Warning] No further splits with positive gain, best gain: -inf\n",
      "[LightGBM] [Warning] No further splits with positive gain, best gain: -inf\n",
      "[1]\tvalid_0's multi_logloss: 0.317017\n",
      "Training until validation scores don't improve for 100 rounds\n",
      "[LightGBM] [Warning] No further splits with positive gain, best gain: -inf\n",
      "[LightGBM] [Warning] No further splits with positive gain, best gain: -inf\n",
      "[2]\tvalid_0's multi_logloss: 0.317322\n",
      "[LightGBM] [Warning] No further splits with positive gain, best gain: -inf\n",
      "[LightGBM] [Warning] No further splits with positive gain, best gain: -inf\n",
      "[3]\tvalid_0's multi_logloss: 0.317318\n",
      "[LightGBM] [Warning] No further splits with positive gain, best gain: -inf\n",
      "[LightGBM] [Warning] No further splits with positive gain, best gain: -inf\n",
      "[4]\tvalid_0's multi_logloss: 0.317723\n",
      "[LightGBM] [Warning] No further splits with positive gain, best gain: -inf\n",
      "[LightGBM] [Warning] No further splits with positive gain, best gain: -inf\n",
      "[5]\tvalid_0's multi_logloss: 0.318098\n",
      "[LightGBM] [Warning] No further splits with positive gain, best gain: -inf\n",
      "[LightGBM] [Warning] No further splits with positive gain, best gain: -inf\n",
      "[6]\tvalid_0's multi_logloss: 0.318218\n",
      "[LightGBM] [Warning] No further splits with positive gain, best gain: -inf\n",
      "[LightGBM] [Warning] No further splits with positive gain, best gain: -inf\n",
      "[7]\tvalid_0's multi_logloss: 0.318611\n",
      "[LightGBM] [Warning] No further splits with positive gain, best gain: -inf\n",
      "[LightGBM] [Warning] No further splits with positive gain, best gain: -inf\n",
      "[8]\tvalid_0's multi_logloss: 0.31899\n",
      "[LightGBM] [Warning] No further splits with positive gain, best gain: -inf\n",
      "[LightGBM] [Warning] No further splits with positive gain, best gain: -inf\n",
      "[9]\tvalid_0's multi_logloss: 0.319151\n",
      "[LightGBM] [Warning] No further splits with positive gain, best gain: -inf\n",
      "[LightGBM] [Warning] No further splits with positive gain, best gain: -inf\n",
      "[10]\tvalid_0's multi_logloss: 0.319348\n",
      "[LightGBM] [Warning] No further splits with positive gain, best gain: -inf\n",
      "[LightGBM] [Warning] No further splits with positive gain, best gain: -inf\n",
      "[11]\tvalid_0's multi_logloss: 0.319347\n",
      "[LightGBM] [Warning] No further splits with positive gain, best gain: -inf\n",
      "[LightGBM] [Warning] No further splits with positive gain, best gain: -inf\n",
      "[12]\tvalid_0's multi_logloss: 0.319438\n",
      "[LightGBM] [Warning] No further splits with positive gain, best gain: -inf\n",
      "[LightGBM] [Warning] No further splits with positive gain, best gain: -inf\n",
      "[13]\tvalid_0's multi_logloss: 0.319636\n",
      "[LightGBM] [Warning] No further splits with positive gain, best gain: -inf\n",
      "[LightGBM] [Warning] No further splits with positive gain, best gain: -inf\n",
      "[14]\tvalid_0's multi_logloss: 0.320033\n",
      "[LightGBM] [Warning] No further splits with positive gain, best gain: -inf\n",
      "[LightGBM] [Warning] No further splits with positive gain, best gain: -inf\n",
      "[15]\tvalid_0's multi_logloss: 0.320222\n",
      "[LightGBM] [Warning] No further splits with positive gain, best gain: -inf\n",
      "[LightGBM] [Warning] No further splits with positive gain, best gain: -inf\n",
      "[16]\tvalid_0's multi_logloss: 0.320487\n",
      "[LightGBM] [Warning] No further splits with positive gain, best gain: -inf\n",
      "[LightGBM] [Warning] No further splits with positive gain, best gain: -inf\n",
      "[17]\tvalid_0's multi_logloss: 0.320836\n",
      "[LightGBM] [Warning] No further splits with positive gain, best gain: -inf\n",
      "[LightGBM] [Warning] No further splits with positive gain, best gain: -inf\n",
      "[18]\tvalid_0's multi_logloss: 0.321198\n",
      "[LightGBM] [Warning] No further splits with positive gain, best gain: -inf\n",
      "[LightGBM] [Warning] No further splits with positive gain, best gain: -inf\n",
      "[19]\tvalid_0's multi_logloss: 0.321528\n",
      "[LightGBM] [Warning] No further splits with positive gain, best gain: -inf\n",
      "[LightGBM] [Warning] No further splits with positive gain, best gain: -inf\n",
      "[20]\tvalid_0's multi_logloss: 0.321691\n",
      "[LightGBM] [Warning] No further splits with positive gain, best gain: -inf\n",
      "[LightGBM] [Warning] No further splits with positive gain, best gain: -inf\n",
      "[21]\tvalid_0's multi_logloss: 0.32196\n",
      "[LightGBM] [Warning] No further splits with positive gain, best gain: -inf\n",
      "[LightGBM] [Warning] No further splits with positive gain, best gain: -inf\n",
      "[22]\tvalid_0's multi_logloss: 0.322356\n",
      "[LightGBM] [Warning] No further splits with positive gain, best gain: -inf\n",
      "[LightGBM] [Warning] No further splits with positive gain, best gain: -inf\n",
      "[23]\tvalid_0's multi_logloss: 0.322394\n",
      "[LightGBM] [Warning] No further splits with positive gain, best gain: -inf\n",
      "[LightGBM] [Warning] No further splits with positive gain, best gain: -inf\n",
      "[24]\tvalid_0's multi_logloss: 0.32267\n",
      "[LightGBM] [Warning] No further splits with positive gain, best gain: -inf\n",
      "[LightGBM] [Warning] No further splits with positive gain, best gain: -inf\n",
      "[25]\tvalid_0's multi_logloss: 0.323041\n",
      "[LightGBM] [Warning] No further splits with positive gain, best gain: -inf\n",
      "[LightGBM] [Warning] No further splits with positive gain, best gain: -inf\n",
      "[26]\tvalid_0's multi_logloss: 0.323409\n",
      "[LightGBM] [Warning] No further splits with positive gain, best gain: -inf\n",
      "[LightGBM] [Warning] No further splits with positive gain, best gain: -inf\n",
      "[27]\tvalid_0's multi_logloss: 0.323495\n",
      "[LightGBM] [Warning] No further splits with positive gain, best gain: -inf\n",
      "[LightGBM] [Warning] No further splits with positive gain, best gain: -inf\n",
      "[28]\tvalid_0's multi_logloss: 0.323774\n",
      "[LightGBM] [Warning] No further splits with positive gain, best gain: -inf\n",
      "[LightGBM] [Warning] No further splits with positive gain, best gain: -inf\n",
      "[29]\tvalid_0's multi_logloss: 0.323728\n",
      "[LightGBM] [Warning] No further splits with positive gain, best gain: -inf\n",
      "[LightGBM] [Warning] No further splits with positive gain, best gain: -inf\n",
      "[30]\tvalid_0's multi_logloss: 0.323577\n",
      "[LightGBM] [Warning] No further splits with positive gain, best gain: -inf\n",
      "[LightGBM] [Warning] No further splits with positive gain, best gain: -inf\n",
      "[31]\tvalid_0's multi_logloss: 0.323458\n",
      "[LightGBM] [Warning] No further splits with positive gain, best gain: -inf\n",
      "[LightGBM] [Warning] No further splits with positive gain, best gain: -inf\n",
      "[32]\tvalid_0's multi_logloss: 0.323736\n",
      "[LightGBM] [Warning] No further splits with positive gain, best gain: -inf\n",
      "[LightGBM] [Warning] No further splits with positive gain, best gain: -inf\n",
      "[33]\tvalid_0's multi_logloss: 0.323876\n",
      "[LightGBM] [Warning] No further splits with positive gain, best gain: -inf\n",
      "[LightGBM] [Warning] No further splits with positive gain, best gain: -inf\n",
      "[34]\tvalid_0's multi_logloss: 0.32439\n",
      "[LightGBM] [Warning] No further splits with positive gain, best gain: -inf\n",
      "[LightGBM] [Warning] No further splits with positive gain, best gain: -inf\n",
      "[35]\tvalid_0's multi_logloss: 0.324352\n",
      "[LightGBM] [Warning] No further splits with positive gain, best gain: -inf\n",
      "[LightGBM] [Warning] No further splits with positive gain, best gain: -inf\n",
      "[36]\tvalid_0's multi_logloss: 0.324518\n",
      "[LightGBM] [Warning] No further splits with positive gain, best gain: -inf\n",
      "[LightGBM] [Warning] No further splits with positive gain, best gain: -inf\n",
      "[37]\tvalid_0's multi_logloss: 0.324478\n",
      "[LightGBM] [Warning] No further splits with positive gain, best gain: -inf\n",
      "[LightGBM] [Warning] No further splits with positive gain, best gain: -inf\n",
      "[38]\tvalid_0's multi_logloss: 0.324901\n",
      "[LightGBM] [Warning] No further splits with positive gain, best gain: -inf\n",
      "[LightGBM] [Warning] No further splits with positive gain, best gain: -inf\n",
      "[39]\tvalid_0's multi_logloss: 0.324784\n",
      "[LightGBM] [Warning] No further splits with positive gain, best gain: -inf\n",
      "[LightGBM] [Warning] No further splits with positive gain, best gain: -inf\n",
      "[40]\tvalid_0's multi_logloss: 0.325209\n",
      "[LightGBM] [Warning] No further splits with positive gain, best gain: -inf\n",
      "[LightGBM] [Warning] No further splits with positive gain, best gain: -inf\n",
      "[41]\tvalid_0's multi_logloss: 0.325396\n",
      "[LightGBM] [Warning] No further splits with positive gain, best gain: -inf\n",
      "[LightGBM] [Warning] No further splits with positive gain, best gain: -inf\n",
      "[42]\tvalid_0's multi_logloss: 0.325153\n",
      "[LightGBM] [Warning] No further splits with positive gain, best gain: -inf\n",
      "[LightGBM] [Warning] No further splits with positive gain, best gain: -inf\n",
      "[43]\tvalid_0's multi_logloss: 0.325346\n",
      "[LightGBM] [Warning] No further splits with positive gain, best gain: -inf\n",
      "[LightGBM] [Warning] No further splits with positive gain, best gain: -inf\n",
      "[44]\tvalid_0's multi_logloss: 0.325777\n",
      "[LightGBM] [Warning] No further splits with positive gain, best gain: -inf\n",
      "[LightGBM] [Warning] No further splits with positive gain, best gain: -inf\n",
      "[45]\tvalid_0's multi_logloss: 0.326282\n",
      "[LightGBM] [Warning] No further splits with positive gain, best gain: -inf\n",
      "[LightGBM] [Warning] No further splits with positive gain, best gain: -inf\n",
      "[46]\tvalid_0's multi_logloss: 0.326542\n",
      "[LightGBM] [Warning] No further splits with positive gain, best gain: -inf\n",
      "[LightGBM] [Warning] No further splits with positive gain, best gain: -inf\n",
      "[47]\tvalid_0's multi_logloss: 0.326603\n",
      "[LightGBM] [Warning] No further splits with positive gain, best gain: -inf\n",
      "[LightGBM] [Warning] No further splits with positive gain, best gain: -inf\n",
      "[48]\tvalid_0's multi_logloss: 0.327063\n",
      "[LightGBM] [Warning] No further splits with positive gain, best gain: -inf\n",
      "[LightGBM] [Warning] No further splits with positive gain, best gain: -inf\n",
      "[49]\tvalid_0's multi_logloss: 0.327568\n",
      "[LightGBM] [Warning] No further splits with positive gain, best gain: -inf\n",
      "[LightGBM] [Warning] No further splits with positive gain, best gain: -inf\n",
      "[50]\tvalid_0's multi_logloss: 0.327874\n",
      "[LightGBM] [Warning] No further splits with positive gain, best gain: -inf\n",
      "[LightGBM] [Warning] No further splits with positive gain, best gain: -inf\n",
      "[51]\tvalid_0's multi_logloss: 0.327947\n",
      "[LightGBM] [Warning] No further splits with positive gain, best gain: -inf\n",
      "[LightGBM] [Warning] No further splits with positive gain, best gain: -inf\n",
      "[52]\tvalid_0's multi_logloss: 0.328139\n",
      "[LightGBM] [Warning] No further splits with positive gain, best gain: -inf\n",
      "[LightGBM] [Warning] No further splits with positive gain, best gain: -inf\n",
      "[53]\tvalid_0's multi_logloss: 0.328532\n",
      "[LightGBM] [Warning] No further splits with positive gain, best gain: -inf\n",
      "[LightGBM] [Warning] No further splits with positive gain, best gain: -inf\n",
      "[54]\tvalid_0's multi_logloss: 0.328786\n",
      "[LightGBM] [Warning] No further splits with positive gain, best gain: -inf\n",
      "[LightGBM] [Warning] No further splits with positive gain, best gain: -inf\n",
      "[55]\tvalid_0's multi_logloss: 0.328872\n",
      "[LightGBM] [Warning] No further splits with positive gain, best gain: -inf\n",
      "[LightGBM] [Warning] No further splits with positive gain, best gain: -inf\n",
      "[56]\tvalid_0's multi_logloss: 0.329141\n",
      "[LightGBM] [Warning] No further splits with positive gain, best gain: -inf\n",
      "[LightGBM] [Warning] No further splits with positive gain, best gain: -inf\n",
      "[57]\tvalid_0's multi_logloss: 0.329131\n",
      "[LightGBM] [Warning] No further splits with positive gain, best gain: -inf\n",
      "[LightGBM] [Warning] No further splits with positive gain, best gain: -inf\n",
      "[58]\tvalid_0's multi_logloss: 0.329436\n",
      "[LightGBM] [Warning] No further splits with positive gain, best gain: -inf\n",
      "[LightGBM] [Warning] No further splits with positive gain, best gain: -inf\n",
      "[59]\tvalid_0's multi_logloss: 0.329829\n",
      "[LightGBM] [Warning] No further splits with positive gain, best gain: -inf\n",
      "[LightGBM] [Warning] No further splits with positive gain, best gain: -inf\n",
      "[60]\tvalid_0's multi_logloss: 0.329947\n",
      "[LightGBM] [Warning] No further splits with positive gain, best gain: -inf\n",
      "[LightGBM] [Warning] No further splits with positive gain, best gain: -inf\n",
      "[61]\tvalid_0's multi_logloss: 0.3302\n",
      "[LightGBM] [Warning] No further splits with positive gain, best gain: -inf\n",
      "[LightGBM] [Warning] No further splits with positive gain, best gain: -inf\n",
      "[62]\tvalid_0's multi_logloss: 0.330311\n",
      "[LightGBM] [Warning] No further splits with positive gain, best gain: -inf\n",
      "[LightGBM] [Warning] No further splits with positive gain, best gain: -inf\n",
      "[63]\tvalid_0's multi_logloss: 0.330257\n",
      "[LightGBM] [Warning] No further splits with positive gain, best gain: -inf\n",
      "[LightGBM] [Warning] No further splits with positive gain, best gain: -inf\n",
      "[64]\tvalid_0's multi_logloss: 0.330383\n",
      "[LightGBM] [Warning] No further splits with positive gain, best gain: -inf\n",
      "[LightGBM] [Warning] No further splits with positive gain, best gain: -inf\n",
      "[65]\tvalid_0's multi_logloss: 0.330721\n",
      "[LightGBM] [Warning] No further splits with positive gain, best gain: -inf\n",
      "[LightGBM] [Warning] No further splits with positive gain, best gain: -inf\n",
      "[66]\tvalid_0's multi_logloss: 0.330917\n",
      "[LightGBM] [Warning] No further splits with positive gain, best gain: -inf\n",
      "[LightGBM] [Warning] No further splits with positive gain, best gain: -inf\n",
      "[67]\tvalid_0's multi_logloss: 0.331154\n",
      "[LightGBM] [Warning] No further splits with positive gain, best gain: -inf\n",
      "[LightGBM] [Warning] No further splits with positive gain, best gain: -inf\n",
      "[68]\tvalid_0's multi_logloss: 0.331287\n",
      "[LightGBM] [Warning] No further splits with positive gain, best gain: -inf\n",
      "[LightGBM] [Warning] No further splits with positive gain, best gain: -inf\n",
      "[69]\tvalid_0's multi_logloss: 0.331844\n",
      "[LightGBM] [Warning] No further splits with positive gain, best gain: -inf\n",
      "[LightGBM] [Warning] No further splits with positive gain, best gain: -inf\n",
      "[70]\tvalid_0's multi_logloss: 0.332026\n",
      "[LightGBM] [Warning] No further splits with positive gain, best gain: -inf\n",
      "[LightGBM] [Warning] No further splits with positive gain, best gain: -inf\n",
      "[71]\tvalid_0's multi_logloss: 0.332339\n",
      "[LightGBM] [Warning] No further splits with positive gain, best gain: -inf\n",
      "[LightGBM] [Warning] No further splits with positive gain, best gain: -inf\n",
      "[72]\tvalid_0's multi_logloss: 0.332373\n",
      "[LightGBM] [Warning] No further splits with positive gain, best gain: -inf\n",
      "[LightGBM] [Warning] No further splits with positive gain, best gain: -inf\n",
      "[73]\tvalid_0's multi_logloss: 0.332751\n",
      "[LightGBM] [Warning] No further splits with positive gain, best gain: -inf\n",
      "[LightGBM] [Warning] No further splits with positive gain, best gain: -inf\n",
      "[74]\tvalid_0's multi_logloss: 0.333049\n",
      "[LightGBM] [Warning] No further splits with positive gain, best gain: -inf\n",
      "[LightGBM] [Warning] No further splits with positive gain, best gain: -inf\n",
      "[75]\tvalid_0's multi_logloss: 0.33316\n",
      "[LightGBM] [Warning] No further splits with positive gain, best gain: -inf\n",
      "[LightGBM] [Warning] No further splits with positive gain, best gain: -inf\n",
      "[76]\tvalid_0's multi_logloss: 0.33342\n",
      "[LightGBM] [Warning] No further splits with positive gain, best gain: -inf\n",
      "[LightGBM] [Warning] No further splits with positive gain, best gain: -inf\n",
      "[77]\tvalid_0's multi_logloss: 0.333668\n",
      "[LightGBM] [Warning] No further splits with positive gain, best gain: -inf\n",
      "[LightGBM] [Warning] No further splits with positive gain, best gain: -inf\n",
      "[78]\tvalid_0's multi_logloss: 0.333723\n",
      "[LightGBM] [Warning] No further splits with positive gain, best gain: -inf\n",
      "[LightGBM] [Warning] No further splits with positive gain, best gain: -inf\n",
      "[79]\tvalid_0's multi_logloss: 0.333966\n",
      "[LightGBM] [Warning] No further splits with positive gain, best gain: -inf\n",
      "[LightGBM] [Warning] No further splits with positive gain, best gain: -inf\n",
      "[80]\tvalid_0's multi_logloss: 0.334203\n",
      "[LightGBM] [Warning] No further splits with positive gain, best gain: -inf\n",
      "[LightGBM] [Warning] No further splits with positive gain, best gain: -inf\n",
      "[81]\tvalid_0's multi_logloss: 0.334147\n",
      "[LightGBM] [Warning] No further splits with positive gain, best gain: -inf\n",
      "[LightGBM] [Warning] No further splits with positive gain, best gain: -inf\n",
      "[82]\tvalid_0's multi_logloss: 0.334289\n",
      "[LightGBM] [Warning] No further splits with positive gain, best gain: -inf\n",
      "[LightGBM] [Warning] No further splits with positive gain, best gain: -inf\n",
      "[83]\tvalid_0's multi_logloss: 0.334722\n",
      "[LightGBM] [Warning] No further splits with positive gain, best gain: -inf\n",
      "[LightGBM] [Warning] No further splits with positive gain, best gain: -inf\n",
      "[84]\tvalid_0's multi_logloss: 0.334988\n",
      "[LightGBM] [Warning] No further splits with positive gain, best gain: -inf\n",
      "[LightGBM] [Warning] No further splits with positive gain, best gain: -inf\n",
      "[85]\tvalid_0's multi_logloss: 0.335199\n",
      "[LightGBM] [Warning] No further splits with positive gain, best gain: -inf\n",
      "[LightGBM] [Warning] No further splits with positive gain, best gain: -inf\n",
      "[86]\tvalid_0's multi_logloss: 0.335562\n",
      "[LightGBM] [Warning] No further splits with positive gain, best gain: -inf\n",
      "[LightGBM] [Warning] No further splits with positive gain, best gain: -inf\n",
      "[87]\tvalid_0's multi_logloss: 0.335723\n",
      "[LightGBM] [Warning] No further splits with positive gain, best gain: -inf\n",
      "[LightGBM] [Warning] No further splits with positive gain, best gain: -inf\n",
      "[88]\tvalid_0's multi_logloss: 0.335857\n",
      "[LightGBM] [Warning] No further splits with positive gain, best gain: -inf\n",
      "[LightGBM] [Warning] No further splits with positive gain, best gain: -inf\n",
      "[89]\tvalid_0's multi_logloss: 0.33611\n",
      "[LightGBM] [Warning] No further splits with positive gain, best gain: -inf\n",
      "[LightGBM] [Warning] No further splits with positive gain, best gain: -inf\n",
      "[90]\tvalid_0's multi_logloss: 0.336275\n",
      "[LightGBM] [Warning] No further splits with positive gain, best gain: -inf\n",
      "[LightGBM] [Warning] No further splits with positive gain, best gain: -inf\n",
      "[91]\tvalid_0's multi_logloss: 0.33664\n",
      "[LightGBM] [Warning] No further splits with positive gain, best gain: -inf\n",
      "[LightGBM] [Warning] No further splits with positive gain, best gain: -inf\n",
      "[92]\tvalid_0's multi_logloss: 0.337008\n",
      "[LightGBM] [Warning] No further splits with positive gain, best gain: -inf\n",
      "[LightGBM] [Warning] No further splits with positive gain, best gain: -inf\n",
      "[93]\tvalid_0's multi_logloss: 0.337328\n",
      "[LightGBM] [Warning] No further splits with positive gain, best gain: -inf\n",
      "[94]\tvalid_0's multi_logloss: 0.337618\n",
      "[LightGBM] [Warning] No further splits with positive gain, best gain: -inf\n",
      "[LightGBM] [Warning] No further splits with positive gain, best gain: -inf\n",
      "[95]\tvalid_0's multi_logloss: 0.338001\n",
      "[LightGBM] [Warning] No further splits with positive gain, best gain: -inf\n",
      "[LightGBM] [Warning] No further splits with positive gain, best gain: -inf\n",
      "[96]\tvalid_0's multi_logloss: 0.338188\n",
      "[LightGBM] [Warning] No further splits with positive gain, best gain: -inf\n",
      "[LightGBM] [Warning] No further splits with positive gain, best gain: -inf\n",
      "[97]\tvalid_0's multi_logloss: 0.338504\n",
      "[LightGBM] [Warning] No further splits with positive gain, best gain: -inf\n",
      "[LightGBM] [Warning] No further splits with positive gain, best gain: -inf\n",
      "[98]\tvalid_0's multi_logloss: 0.338815\n",
      "[LightGBM] [Warning] No further splits with positive gain, best gain: -inf\n",
      "[LightGBM] [Warning] No further splits with positive gain, best gain: -inf\n",
      "[99]\tvalid_0's multi_logloss: 0.338874\n",
      "[LightGBM] [Warning] No further splits with positive gain, best gain: -inf\n",
      "[LightGBM] [Warning] No further splits with positive gain, best gain: -inf\n",
      "[100]\tvalid_0's multi_logloss: 0.339034\n",
      "[LightGBM] [Warning] No further splits with positive gain, best gain: -inf\n",
      "[LightGBM] [Warning] No further splits with positive gain, best gain: -inf\n",
      "[101]\tvalid_0's multi_logloss: 0.339364\n",
      "Early stopping, best iteration is:\n",
      "[1]\tvalid_0's multi_logloss: 0.317017\n",
      "score:  0.9475\n"
     ]
    },
    {
     "name": "stderr",
     "output_type": "stream",
     "text": [
      "C:\\InstallSoft\\Anaconda\\envs\\MachineLearning\\lib\\site-packages\\lightgbm\\basic.py:1077: UserWarning: silent keyword has been found in `params` and will be ignored.\n",
      "Please use silent argument of the Dataset constructor to pass this parameter.\n",
      "  .format(key))\n"
     ]
    }
   ],
   "source": [
    "import lightgbm\n",
    "X_train, X_test, y_train, y_test = train_test_split(train, target, test_size=0.4, random_state=0)\n",
    "X_test, X_valid, y_test, y_valid = train_test_split(X_test, y_test, test_size=0.5, random_state=0)\n",
    "\n",
    "clf = lightgbm\n",
    "train_matrix = clf.Dataset(X_train, label=y_train)\n",
    "test_matrix = clf.Dataset(X_test, label=y_test)\n",
    "params = {\n",
    "    'boosting_type': \"gbdt\",\n",
    "    \"objective\": \"multiclass\",\n",
    "    \"metric\": \"multi_logloss\",\n",
    "    \"min_child_weight\": 1.5,\n",
    "    \"num_leaves\": 2**5,\n",
    "    \"lambda_l2\": 10,\n",
    "    \"subsample\": 0.7,\n",
    "    \"colsample_bytree\": 0.7,\n",
    "    \"colsample_bylevel\": 0.7,\n",
    "    \"learning_rate\": 0.03,\n",
    "    \"tree_method\": \"exact\",\n",
    "    \"seed\": 2017,\n",
    "    \"num_class\": 2,\n",
    "    \"silent\": True\n",
    "}\n",
    "\n",
    "num_round = 10000\n",
    "early_stopping_rounds = 100\n",
    "model = clf.train(params, train_matrix, num_round, valid_sets=test_matrix,early_stopping_rounds=early_stopping_rounds)\n",
    "\n",
    "pre = model.predict(X_valid, num_iteration=model.best_iteration)\n",
    "print(\"score: \", np.mean((pre[:, 1]>0.5)==y_valid))"
   ],
   "metadata": {
    "collapsed": false,
    "pycharm": {
     "name": "#%%\n"
    }
   }
  },
  {
   "cell_type": "code",
   "execution_count": 32,
   "outputs": [
    {
     "name": "stdout",
     "output_type": "stream",
     "text": [
      "[0]\ttrain-mlogloss:0.67042\teval-mlogloss:0.67256\n",
      "[1]\ttrain-mlogloss:0.64903\teval-mlogloss:0.65327\n",
      "[2]\ttrain-mlogloss:0.62886\teval-mlogloss:0.63508\n",
      "[3]\ttrain-mlogloss:0.60968\teval-mlogloss:0.61801\n",
      "[4]\ttrain-mlogloss:0.59154\teval-mlogloss:0.60201\n",
      "[5]\ttrain-mlogloss:0.57448\teval-mlogloss:0.58678\n",
      "[6]\ttrain-mlogloss:0.55833\teval-mlogloss:0.57224\n",
      "[7]\ttrain-mlogloss:0.54294\teval-mlogloss:0.55847\n",
      "[8]\ttrain-mlogloss:0.52843\teval-mlogloss:0.54546\n",
      "[9]\ttrain-mlogloss:0.51440\teval-mlogloss:0.53335\n",
      "[10]\ttrain-mlogloss:0.50108\teval-mlogloss:0.52186\n",
      "[11]\ttrain-mlogloss:0.48822\teval-mlogloss:0.51080\n",
      "[12]\ttrain-mlogloss:0.47621\teval-mlogloss:0.50038\n",
      "[13]\ttrain-mlogloss:0.46477\teval-mlogloss:0.49041\n",
      "[14]\ttrain-mlogloss:0.45372\teval-mlogloss:0.48111\n",
      "[15]\ttrain-mlogloss:0.44329\teval-mlogloss:0.47243\n",
      "[16]\ttrain-mlogloss:0.43316\teval-mlogloss:0.46389\n",
      "[17]\ttrain-mlogloss:0.42346\teval-mlogloss:0.45569\n",
      "[18]\ttrain-mlogloss:0.41441\teval-mlogloss:0.44818\n",
      "[19]\ttrain-mlogloss:0.40549\teval-mlogloss:0.44089\n",
      "[20]\ttrain-mlogloss:0.39700\teval-mlogloss:0.43373\n",
      "[21]\ttrain-mlogloss:0.38895\teval-mlogloss:0.42715\n",
      "[22]\ttrain-mlogloss:0.38120\teval-mlogloss:0.42100\n",
      "[23]\ttrain-mlogloss:0.37383\teval-mlogloss:0.41514\n",
      "[24]\ttrain-mlogloss:0.36671\teval-mlogloss:0.40939\n",
      "[25]\ttrain-mlogloss:0.35977\teval-mlogloss:0.40382\n",
      "[26]\ttrain-mlogloss:0.35337\teval-mlogloss:0.39868\n",
      "[27]\ttrain-mlogloss:0.34710\teval-mlogloss:0.39382\n",
      "[28]\ttrain-mlogloss:0.34092\teval-mlogloss:0.38905\n",
      "[29]\ttrain-mlogloss:0.33513\teval-mlogloss:0.38474\n",
      "[30]\ttrain-mlogloss:0.32951\teval-mlogloss:0.38053\n",
      "[31]\ttrain-mlogloss:0.32416\teval-mlogloss:0.37635\n",
      "[32]\ttrain-mlogloss:0.31912\teval-mlogloss:0.37262\n",
      "[33]\ttrain-mlogloss:0.31427\teval-mlogloss:0.36911\n",
      "[34]\ttrain-mlogloss:0.30951\teval-mlogloss:0.36564\n",
      "[35]\ttrain-mlogloss:0.30498\teval-mlogloss:0.36251\n",
      "[36]\ttrain-mlogloss:0.30045\teval-mlogloss:0.35945\n",
      "[37]\ttrain-mlogloss:0.29619\teval-mlogloss:0.35630\n",
      "[38]\ttrain-mlogloss:0.29218\teval-mlogloss:0.35349\n",
      "[39]\ttrain-mlogloss:0.28823\teval-mlogloss:0.35090\n",
      "[40]\ttrain-mlogloss:0.28447\teval-mlogloss:0.34842\n",
      "[41]\ttrain-mlogloss:0.28074\teval-mlogloss:0.34605\n",
      "[42]\ttrain-mlogloss:0.27729\teval-mlogloss:0.34386\n",
      "[43]\ttrain-mlogloss:0.27400\teval-mlogloss:0.34179\n",
      "[44]\ttrain-mlogloss:0.27076\teval-mlogloss:0.33959\n",
      "[45]\ttrain-mlogloss:0.26778\teval-mlogloss:0.33779\n",
      "[46]\ttrain-mlogloss:0.26490\teval-mlogloss:0.33610\n",
      "[47]\ttrain-mlogloss:0.26189\teval-mlogloss:0.33428\n",
      "[48]\ttrain-mlogloss:0.25912\teval-mlogloss:0.33268\n",
      "[49]\ttrain-mlogloss:0.25638\teval-mlogloss:0.33112\n",
      "[50]\ttrain-mlogloss:0.25378\teval-mlogloss:0.32970\n",
      "[51]\ttrain-mlogloss:0.25128\teval-mlogloss:0.32839\n",
      "[52]\ttrain-mlogloss:0.24893\teval-mlogloss:0.32710\n",
      "[53]\ttrain-mlogloss:0.24653\teval-mlogloss:0.32581\n",
      "[54]\ttrain-mlogloss:0.24427\teval-mlogloss:0.32470\n",
      "[55]\ttrain-mlogloss:0.24216\teval-mlogloss:0.32344\n",
      "[56]\ttrain-mlogloss:0.24013\teval-mlogloss:0.32253\n",
      "[57]\ttrain-mlogloss:0.23816\teval-mlogloss:0.32158\n",
      "[58]\ttrain-mlogloss:0.23625\teval-mlogloss:0.32083\n",
      "[59]\ttrain-mlogloss:0.23432\teval-mlogloss:0.32001\n",
      "[60]\ttrain-mlogloss:0.23259\teval-mlogloss:0.31918\n",
      "[61]\ttrain-mlogloss:0.23083\teval-mlogloss:0.31852\n",
      "[62]\ttrain-mlogloss:0.22900\teval-mlogloss:0.31786\n",
      "[63]\ttrain-mlogloss:0.22724\teval-mlogloss:0.31728\n",
      "[64]\ttrain-mlogloss:0.22554\teval-mlogloss:0.31679\n",
      "[65]\ttrain-mlogloss:0.22396\teval-mlogloss:0.31619\n",
      "[66]\ttrain-mlogloss:0.22240\teval-mlogloss:0.31568\n",
      "[67]\ttrain-mlogloss:0.22088\teval-mlogloss:0.31520\n",
      "[68]\ttrain-mlogloss:0.21921\teval-mlogloss:0.31450\n",
      "[69]\ttrain-mlogloss:0.21786\teval-mlogloss:0.31414\n",
      "[70]\ttrain-mlogloss:0.21662\teval-mlogloss:0.31383\n",
      "[71]\ttrain-mlogloss:0.21522\teval-mlogloss:0.31333\n",
      "[72]\ttrain-mlogloss:0.21402\teval-mlogloss:0.31309\n",
      "[73]\ttrain-mlogloss:0.21291\teval-mlogloss:0.31290\n",
      "[74]\ttrain-mlogloss:0.21161\teval-mlogloss:0.31265\n",
      "[75]\ttrain-mlogloss:0.21034\teval-mlogloss:0.31230\n",
      "[76]\ttrain-mlogloss:0.20915\teval-mlogloss:0.31218\n",
      "[77]\ttrain-mlogloss:0.20785\teval-mlogloss:0.31183\n",
      "[78]\ttrain-mlogloss:0.20671\teval-mlogloss:0.31156\n",
      "[79]\ttrain-mlogloss:0.20557\teval-mlogloss:0.31134\n",
      "[80]\ttrain-mlogloss:0.20425\teval-mlogloss:0.31122\n",
      "[81]\ttrain-mlogloss:0.20310\teval-mlogloss:0.31111\n",
      "[82]\ttrain-mlogloss:0.20211\teval-mlogloss:0.31104\n",
      "[83]\ttrain-mlogloss:0.20114\teval-mlogloss:0.31099\n",
      "[84]\ttrain-mlogloss:0.20007\teval-mlogloss:0.31103\n",
      "[85]\ttrain-mlogloss:0.19874\teval-mlogloss:0.31110\n",
      "[86]\ttrain-mlogloss:0.19765\teval-mlogloss:0.31122\n",
      "[87]\ttrain-mlogloss:0.19666\teval-mlogloss:0.31118\n",
      "[88]\ttrain-mlogloss:0.19578\teval-mlogloss:0.31134\n",
      "[89]\ttrain-mlogloss:0.19482\teval-mlogloss:0.31131\n",
      "[90]\ttrain-mlogloss:0.19391\teval-mlogloss:0.31138\n",
      "[91]\ttrain-mlogloss:0.19310\teval-mlogloss:0.31142\n",
      "[92]\ttrain-mlogloss:0.19237\teval-mlogloss:0.31157\n",
      "[93]\ttrain-mlogloss:0.19149\teval-mlogloss:0.31164\n",
      "[94]\ttrain-mlogloss:0.19061\teval-mlogloss:0.31171\n",
      "[95]\ttrain-mlogloss:0.18995\teval-mlogloss:0.31181\n",
      "[96]\ttrain-mlogloss:0.18911\teval-mlogloss:0.31212\n",
      "[97]\ttrain-mlogloss:0.18819\teval-mlogloss:0.31232\n",
      "[98]\ttrain-mlogloss:0.18740\teval-mlogloss:0.31254\n",
      "[99]\ttrain-mlogloss:0.18648\teval-mlogloss:0.31253\n",
      "[100]\ttrain-mlogloss:0.18540\teval-mlogloss:0.31270\n",
      "[101]\ttrain-mlogloss:0.18453\teval-mlogloss:0.31288\n",
      "[102]\ttrain-mlogloss:0.18373\teval-mlogloss:0.31299\n",
      "[103]\ttrain-mlogloss:0.18304\teval-mlogloss:0.31321\n",
      "[104]\ttrain-mlogloss:0.18232\teval-mlogloss:0.31337\n",
      "[105]\ttrain-mlogloss:0.18132\teval-mlogloss:0.31340\n",
      "[106]\ttrain-mlogloss:0.18068\teval-mlogloss:0.31375\n",
      "[107]\ttrain-mlogloss:0.17998\teval-mlogloss:0.31394\n",
      "[108]\ttrain-mlogloss:0.17907\teval-mlogloss:0.31416\n",
      "[109]\ttrain-mlogloss:0.17832\teval-mlogloss:0.31436\n",
      "[110]\ttrain-mlogloss:0.17759\teval-mlogloss:0.31457\n",
      "[111]\ttrain-mlogloss:0.17689\teval-mlogloss:0.31477\n",
      "[112]\ttrain-mlogloss:0.17602\teval-mlogloss:0.31495\n",
      "[113]\ttrain-mlogloss:0.17537\teval-mlogloss:0.31533\n",
      "[114]\ttrain-mlogloss:0.17475\teval-mlogloss:0.31557\n",
      "[115]\ttrain-mlogloss:0.17431\teval-mlogloss:0.31593\n",
      "[116]\ttrain-mlogloss:0.17352\teval-mlogloss:0.31609\n",
      "[117]\ttrain-mlogloss:0.17272\teval-mlogloss:0.31630\n",
      "[118]\ttrain-mlogloss:0.17196\teval-mlogloss:0.31650\n",
      "[119]\ttrain-mlogloss:0.17127\teval-mlogloss:0.31674\n",
      "[120]\ttrain-mlogloss:0.17057\teval-mlogloss:0.31697\n",
      "[121]\ttrain-mlogloss:0.16985\teval-mlogloss:0.31715\n",
      "[122]\ttrain-mlogloss:0.16911\teval-mlogloss:0.31742\n",
      "[123]\ttrain-mlogloss:0.16844\teval-mlogloss:0.31783\n",
      "[124]\ttrain-mlogloss:0.16776\teval-mlogloss:0.31817\n",
      "[125]\ttrain-mlogloss:0.16710\teval-mlogloss:0.31842\n",
      "[126]\ttrain-mlogloss:0.16633\teval-mlogloss:0.31876\n",
      "[127]\ttrain-mlogloss:0.16571\teval-mlogloss:0.31890\n",
      "[128]\ttrain-mlogloss:0.16513\teval-mlogloss:0.31918\n",
      "[129]\ttrain-mlogloss:0.16450\teval-mlogloss:0.31935\n",
      "[130]\ttrain-mlogloss:0.16391\teval-mlogloss:0.31942\n",
      "[131]\ttrain-mlogloss:0.16332\teval-mlogloss:0.31994\n",
      "[132]\ttrain-mlogloss:0.16264\teval-mlogloss:0.32019\n",
      "[133]\ttrain-mlogloss:0.16201\teval-mlogloss:0.32057\n",
      "[134]\ttrain-mlogloss:0.16145\teval-mlogloss:0.32083\n",
      "[135]\ttrain-mlogloss:0.16082\teval-mlogloss:0.32104\n",
      "[136]\ttrain-mlogloss:0.16003\teval-mlogloss:0.32115\n",
      "[137]\ttrain-mlogloss:0.15953\teval-mlogloss:0.32145\n",
      "[138]\ttrain-mlogloss:0.15877\teval-mlogloss:0.32144\n",
      "[139]\ttrain-mlogloss:0.15818\teval-mlogloss:0.32167\n",
      "[140]\ttrain-mlogloss:0.15762\teval-mlogloss:0.32200\n",
      "[141]\ttrain-mlogloss:0.15695\teval-mlogloss:0.32225\n",
      "[142]\ttrain-mlogloss:0.15645\teval-mlogloss:0.32251\n",
      "[143]\ttrain-mlogloss:0.15579\teval-mlogloss:0.32260\n",
      "[144]\ttrain-mlogloss:0.15517\teval-mlogloss:0.32283\n",
      "[145]\ttrain-mlogloss:0.15463\teval-mlogloss:0.32329\n",
      "[146]\ttrain-mlogloss:0.15419\teval-mlogloss:0.32358\n",
      "[147]\ttrain-mlogloss:0.15368\teval-mlogloss:0.32380\n",
      "[148]\ttrain-mlogloss:0.15304\teval-mlogloss:0.32403\n",
      "[149]\ttrain-mlogloss:0.15253\teval-mlogloss:0.32424\n",
      "[150]\ttrain-mlogloss:0.15201\teval-mlogloss:0.32451\n",
      "[151]\ttrain-mlogloss:0.15135\teval-mlogloss:0.32450\n",
      "[152]\ttrain-mlogloss:0.15069\teval-mlogloss:0.32457\n",
      "[153]\ttrain-mlogloss:0.15018\teval-mlogloss:0.32492\n",
      "[154]\ttrain-mlogloss:0.14969\teval-mlogloss:0.32506\n",
      "[155]\ttrain-mlogloss:0.14922\teval-mlogloss:0.32526\n",
      "[156]\ttrain-mlogloss:0.14870\teval-mlogloss:0.32560\n",
      "[157]\ttrain-mlogloss:0.14826\teval-mlogloss:0.32573\n",
      "[158]\ttrain-mlogloss:0.14766\teval-mlogloss:0.32572\n",
      "[159]\ttrain-mlogloss:0.14711\teval-mlogloss:0.32589\n",
      "[160]\ttrain-mlogloss:0.14652\teval-mlogloss:0.32607\n",
      "[161]\ttrain-mlogloss:0.14603\teval-mlogloss:0.32637\n",
      "[162]\ttrain-mlogloss:0.14551\teval-mlogloss:0.32651\n",
      "[163]\ttrain-mlogloss:0.14506\teval-mlogloss:0.32684\n",
      "[164]\ttrain-mlogloss:0.14448\teval-mlogloss:0.32687\n",
      "[165]\ttrain-mlogloss:0.14394\teval-mlogloss:0.32706\n",
      "[166]\ttrain-mlogloss:0.14347\teval-mlogloss:0.32721\n",
      "[167]\ttrain-mlogloss:0.14308\teval-mlogloss:0.32766\n",
      "[168]\ttrain-mlogloss:0.14263\teval-mlogloss:0.32810\n",
      "[169]\ttrain-mlogloss:0.14209\teval-mlogloss:0.32817\n",
      "[170]\ttrain-mlogloss:0.14160\teval-mlogloss:0.32826\n",
      "[171]\ttrain-mlogloss:0.14113\teval-mlogloss:0.32868\n",
      "[172]\ttrain-mlogloss:0.14072\teval-mlogloss:0.32893\n",
      "[173]\ttrain-mlogloss:0.14019\teval-mlogloss:0.32907\n",
      "[174]\ttrain-mlogloss:0.13974\teval-mlogloss:0.32932\n",
      "[175]\ttrain-mlogloss:0.13920\teval-mlogloss:0.32972\n",
      "[176]\ttrain-mlogloss:0.13874\teval-mlogloss:0.33006\n",
      "[177]\ttrain-mlogloss:0.13816\teval-mlogloss:0.33030\n",
      "[178]\ttrain-mlogloss:0.13763\teval-mlogloss:0.33031\n",
      "[179]\ttrain-mlogloss:0.13726\teval-mlogloss:0.33026\n",
      "[180]\ttrain-mlogloss:0.13683\teval-mlogloss:0.33044\n",
      "[181]\ttrain-mlogloss:0.13642\teval-mlogloss:0.33071\n",
      "[182]\ttrain-mlogloss:0.13603\teval-mlogloss:0.33112\n",
      "score:  0.9475\n"
     ]
    }
   ],
   "source": [
    "import xgboost\n",
    "X_train, X_test, y_train, y_test = train_test_split(train, target, test_size=0.4, random_state=0)\n",
    "X_test, X_valid, y_test, y_valid = train_test_split(X_test, y_test, test_size=0.5, random_state=0)\n",
    "\n",
    "clf = xgboost\n",
    "train_matrix = clf.DMatrix(X_train, label=y_train, missing=-1)\n",
    "test_matrix = clf.DMatrix(X_test, label=y_test, missing=-1)\n",
    "z = clf.DMatrix(X_valid, label=y_valid, missing=-1)\n",
    "params = {\n",
    "    'booster': \"gbtree\",\n",
    "    \"objective\": \"multi:softprob\",\n",
    "    \"eval_metric\": \"mlogloss\",\n",
    "    \"min_child_weight\": 1.5,\n",
    "    \"max_depth\": 5,\n",
    "    \"lambda\": 10,\n",
    "    \"subsample\": 0.7,\n",
    "    \"colsample_bytree\": 0.7,\n",
    "    \"colsample_bylevel\": 0.7,\n",
    "    \"eta\": 0.03,\n",
    "    \"tree_method\": \"exact\",\n",
    "    \"seed\": 2017,\n",
    "    \"num_class\": 2,\n",
    "}\n",
    "\n",
    "num_round = 10000\n",
    "early_stopping_rounds = 100\n",
    "watch_list = [(train_matrix, 'train'), (test_matrix, \"eval\")]\n",
    "model = clf.train(params, train_matrix, num_boost_round=num_round, evals=watch_list, early_stopping_rounds=early_stopping_rounds)\n",
    "\n",
    "pre = model.predict(z, ntree_limit=model.best_ntree_limit)\n",
    "print(\"score: \", np.mean((pre[:, 1]>0.5)==y_valid))"
   ],
   "metadata": {
    "collapsed": false,
    "pycharm": {
     "name": "#%%\n"
    }
   }
  },
  {
   "cell_type": "code",
   "execution_count": null,
   "outputs": [],
   "source": [
    "# 自己封装模型\n",
    "\n"
   ],
   "metadata": {
    "collapsed": false,
    "pycharm": {
     "name": "#%%\n"
    }
   }
  }
 ],
 "metadata": {
  "kernelspec": {
   "display_name": "Python 3",
   "language": "python",
   "name": "python3"
  },
  "language_info": {
   "codemirror_mode": {
    "name": "ipython",
    "version": 2
   },
   "file_extension": ".py",
   "mimetype": "text/x-python",
   "name": "python",
   "nbconvert_exporter": "python",
   "pygments_lexer": "ipython2",
   "version": "2.7.6"
  }
 },
 "nbformat": 4,
 "nbformat_minor": 0
}